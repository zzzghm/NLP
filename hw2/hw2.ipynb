{
 "cells": [
  {
   "cell_type": "markdown",
   "metadata": {},
   "source": [
    "To complete this assignment, fill in any place that says `YOUR CODE HERE` or `YOUR ANSWER HERE`, as well as your name below.\n",
    "\n",
    "To make sure everything runs as expected, do the following\n",
    "- **restart the kernel** (in the menubar, select Kernel$\\rightarrow$Restart)\n",
    "- **run all cells** (in the menubar, select Cell$\\rightarrow$Run All).\n",
    "\n",
    "A good introduction to Jupyter notebooks is [here](https://realpython.com/jupyter-notebook-introduction/).\n"
   ]
  },
  {
   "cell_type": "code",
   "execution_count": 1,
   "metadata": {},
   "outputs": [],
   "source": [
    "NAME = \"Joy Zhuge\""
   ]
  },
  {
   "cell_type": "markdown",
   "metadata": {},
   "source": [
    "---"
   ]
  },
  {
   "cell_type": "markdown",
   "metadata": {
    "toc": true
   },
   "source": [
    "<h1>Table of Contents<span class=\"tocSkip\"></span></h1>\n",
    "<div class=\"toc\"><ul class=\"toc-item\"><li><span><a href=\"#Part-I:-Word-Vectors\" data-toc-modified-id=\"Part-I:-Word-Vectors-1\"><span class=\"toc-item-num\">1&nbsp;&nbsp;</span>Part I: Word Vectors</a></span><ul class=\"toc-item\"><li><span><a href=\"#Using-embeddings-for-classification\" data-toc-modified-id=\"Using-embeddings-for-classification-1.1\"><span class=\"toc-item-num\">1.1&nbsp;&nbsp;</span>Using embeddings for classification</a></span></li><li><span><a href=\"#Intepreting-word-vector-models\" data-toc-modified-id=\"Intepreting-word-vector-models-1.2\"><span class=\"toc-item-num\">1.2&nbsp;&nbsp;</span>Intepreting word vector models</a></span></li></ul></li><li><span><a href=\"#Part-II:-Sequence-Models\" data-toc-modified-id=\"Part-II:-Sequence-Models-2\"><span class=\"toc-item-num\">2&nbsp;&nbsp;</span>Part II: Sequence Models</a></span><ul class=\"toc-item\"><li><span><a href=\"#transition-probabilities\" data-toc-modified-id=\"transition-probabilities-2.1\"><span class=\"toc-item-num\">2.1&nbsp;&nbsp;</span>transition probabilities</a></span></li><li><span><a href=\"#emission-probabilities\" data-toc-modified-id=\"emission-probabilities-2.2\"><span class=\"toc-item-num\">2.2&nbsp;&nbsp;</span>emission probabilities</a></span></li><li><span><a href=\"#start-probabilities\" data-toc-modified-id=\"start-probabilities-2.3\"><span class=\"toc-item-num\">2.3&nbsp;&nbsp;</span>start probabilities</a></span></li><li><span><a href=\"#Viterbi\" data-toc-modified-id=\"Viterbi-2.4\"><span class=\"toc-item-num\">2.4&nbsp;&nbsp;</span>Viterbi</a></span></li><li><span><a href=\"#running-your-HMM-on-real-data\" data-toc-modified-id=\"running-your-HMM-on-real-data-2.5\"><span class=\"toc-item-num\">2.5&nbsp;&nbsp;</span>running your HMM on real data</a></span></li></ul></li><li><span><a href=\"#Part-III:-RNNs-for-POS-tagging\" data-toc-modified-id=\"Part-III:-RNNs-for-POS-tagging-3\"><span class=\"toc-item-num\">3&nbsp;&nbsp;</span>Part III: RNNs for POS tagging</a></span><ul class=\"toc-item\"><li><span><a href=\"#RNNs-on-real-data.\" data-toc-modified-id=\"RNNs-on-real-data.-3.1\"><span class=\"toc-item-num\">3.1&nbsp;&nbsp;</span>RNNs on real data.</a></span></li><li><span><a href=\"#RNNs-with-word-embeddings\" data-toc-modified-id=\"RNNs-with-word-embeddings-3.2\"><span class=\"toc-item-num\">3.2&nbsp;&nbsp;</span>RNNs with word embeddings</a></span></li></ul></li></ul></div>"
   ]
  },
  {
   "cell_type": "markdown",
   "metadata": {
    "deletable": false,
    "editable": false,
    "nbgrader": {
     "cell_type": "markdown",
     "checksum": "ec7d43d45eb8f9384587176878f147dd",
     "grade": false,
     "grade_id": "jupyter",
     "locked": true,
     "schema_version": 3,
     "solution": false
    }
   },
   "source": [
    "\n",
    "In this assignment we will:\n",
    "- explore word embeddings for classification\n",
    "- implement HMMs for part-of-speech tagging\n",
    "- apply RNNs for part-of-speech tagging\n",
    "\n",
    "As in the previous assignment, there are spaces below for you to both write code and short answers. In some places, there are tests to check your work, though passing tests does not guarantee full credit. I recommend moving sequentially from top to bottom, getting each step working before moving on to the next.\n",
    "\n",
    "This assignment will use a number of Python libraries, listed in the next cell. If you haven't already installed these, you can do so by running this command in this directory: `pip install -r requirements.txt`. Minor variants in the version numbers shouldn't affect things much.\n",
    "\n"
   ]
  },
  {
   "cell_type": "code",
   "execution_count": 2,
   "metadata": {},
   "outputs": [],
   "source": [
    "# imports\n",
    "from collections import Counter, defaultdict\n",
    "import gensim\n",
    "import gensim.downloader as api\n",
    "import numpy as np\n",
    "from numpy import array as npa\n",
    "import matplotlib.pyplot as plt\n",
    "import math\n",
    "import pandas as pd\n",
    "import re\n",
    "from scipy.sparse import csr_matrix\n",
    "from itertools import chain\n",
    "import seaborn as sns\n",
    "import torch\n",
    "import torch.nn as nn\n",
    "from sklearn.decomposition import PCA\n",
    "from sklearn.feature_extraction.text import CountVectorizer\n",
    "from sklearn.linear_model import LogisticRegression\n",
    "from sklearn.metrics import classification_report, f1_score\n",
    "from sklearn.naive_bayes import BernoulliNB,MultinomialNB\n",
    "import torch\n",
    "import torch.nn as nn\n",
    "from tqdm import tqdm\n",
    "\n",
    "%matplotlib inline\n",
    "sns.set(style=\"whitegrid\", font_scale=1.5, rc={'figure.figsize':(12, 6)})\n",
    "pd.set_option('display.max_colwidth', 100)"
   ]
  },
  {
   "cell_type": "markdown",
   "metadata": {},
   "source": [
    "## Part I: Word Vectors\n",
    "\n",
    "In this section, we'll load some pre-trained word embeddings and use them to re-classify the movie review data from HW1."
   ]
  },
  {
   "cell_type": "code",
   "execution_count": 3,
   "metadata": {},
   "outputs": [
    {
     "name": "stdout",
     "output_type": "stream",
     "text": [
      "word embeddings for 400000 words of dimension 50\n"
     ]
    }
   ],
   "source": [
    "# Load a small word embedding model.\n",
    "# Here we're using a variant called GloVe, which is trained a bit differently than we've done in class.\n",
    "# https://nlp.stanford.edu/projects/glove/\n",
    "# The details will not matter much for the purposes of this assignment.\n",
    "w2v = api.load('glove-wiki-gigaword-50')\n",
    "# see list of possible downloads here: https://github.com/RaRe-Technologies/gensim-data\n",
    "print('word embeddings for %d words of dimension %d' % (len(w2v.vocab), len(w2v['love'])))"
   ]
  },
  {
   "cell_type": "code",
   "execution_count": 4,
   "metadata": {},
   "outputs": [
    {
     "data": {
      "text/plain": [
       "50"
      ]
     },
     "execution_count": 4,
     "metadata": {},
     "output_type": "execute_result"
    }
   ],
   "source": [
    "len(w2v['the'])"
   ]
  },
  {
   "cell_type": "markdown",
   "metadata": {},
   "source": [
    "Let's project these 50 dimensions down to 2 to visualize some important terms."
   ]
  },
  {
   "cell_type": "code",
   "execution_count": 5,
   "metadata": {},
   "outputs": [
    {
     "data": {
      "image/png": "[encoded data removed]",
      "text/plain": [
       "<Figure size 864x864 with 1 Axes>"
      ]
     },
     "metadata": {
      "needs_background": "light"
     },
     "output_type": "display_data"
    }
   ],
   "source": [
    "def plot_embeddings_w2v(w2v, words):\n",
    "    word_vectors = np.array([w2v[a] for a in words])\n",
    "    # reduce two 2 dimensions\n",
    "    twodim = PCA(random_state=42).fit_transform(word_vectors)[:,:2]\n",
    "    plt.figure(figsize=(12,12))\n",
    "    plt.scatter(twodim[:,0], twodim[:,1], edgecolors='k', c='r')\n",
    "    for word, (x,y) in zip(words, twodim):\n",
    "        plt.text(x+.05, y+.05, word)\n",
    "    plt.show()\n",
    "    \n",
    "plot_embeddings_w2v(w2v, ['great', 'best', 'worth', 'again', 'watch', 'excellent', 'characters', 'where', 'role',\n",
    "                          'worst', 'nothing', 'bad', 'terrible', 'waste', 'boring', 'why', 'awful', 'because', 'poor'])\n",
    "# seems to be some signal separating words by sentiment."
   ]
  },
  {
   "cell_type": "markdown",
   "metadata": {},
   "source": [
    "### Using embeddings for classification\n",
    "\n",
    "Our first task is to use these embeddings for classification. As mentioned in class, we have a few options for ways of aggregating the vectors for all the words in a document. For example:\n",
    "\n",
    "1. `average`: average the vectors\n",
    "2. `max`: take the max along each dimension\n",
    "3. `min`: take the min along each dimension\n",
    "4. `min` $\\oplus$ `max`: concatenate `min` and `max` vectors (total length = 50*2)\n",
    "\n",
    "We'll reclassify the movie review data from the previous assignment using word vectors to see if it makes a difference in accuracy."
   ]
  },
  {
   "cell_type": "code",
   "execution_count": 6,
   "metadata": {},
   "outputs": [
    {
     "data": {
      "text/plain": [
       "array([0., 0., 0., 0., 0., 0., 0., 0., 0., 0., 0., 0., 0., 0., 0., 0., 0.,\n",
       "       0., 0., 0., 0., 0., 0., 0., 0., 0., 0., 0., 0., 0., 0., 0., 0., 0.,\n",
       "       0., 0., 0., 0., 0., 0., 0., 0., 0., 0., 0., 0., 0., 0., 0., 0.])"
      ]
     },
     "execution_count": 6,
     "metadata": {},
     "output_type": "execute_result"
    }
   ],
   "source": [
    "vectors_sum=np.zeros(len(w2v['the']))\n",
    "vectors_sum"
   ]
  },
  {
   "cell_type": "code",
   "execution_count": 7,
   "metadata": {
    "deletable": false,
    "nbgrader": {
     "cell_type": "code",
     "checksum": "9c5ce3399935f48053aabebc84b1534f",
     "grade": false,
     "grade_id": "avg",
     "locked": false,
     "schema_version": 3,
     "solution": true,
     "task": false
    }
   },
   "outputs": [
    {
     "data": {
      "text/plain": [
       "array([ 1.04381500e-01,  1.12445003e+00, -1.11439997e+00, -1.83170255e-01,\n",
       "        9.02209997e-01, -1.15970004e-01, -4.11805004e-01,  1.08799994e-01,\n",
       "       -1.49732300e-01,  4.88041993e-01, -3.08196014e-01,  7.14240000e-01,\n",
       "        7.25699961e-02, -3.05836502e-01,  3.61425485e-01, -2.32325003e-01,\n",
       "        8.04439992e-01,  5.78560010e-01, -5.50194524e-01, -4.66484994e-01,\n",
       "       -2.54789993e-01,  5.64771497e-01, -3.36725004e-01, -2.48538496e-01,\n",
       "        1.35455000e+00, -1.14691497e+00, -1.47009999e+00,  3.87299955e-02,\n",
       "        7.62910008e-01, -1.75379992e-01,  2.61150002e+00,  5.92914999e-01,\n",
       "        1.46920495e-01, -9.90229994e-02,  1.34599954e-03,  3.83454993e-01,\n",
       "       -2.68950000e-01,  5.49225003e-01, -7.21860016e-02, -2.64769008e-01,\n",
       "        2.64299959e-02,  1.97219007e-01, -4.18669999e-01, -3.80999967e-02,\n",
       "       -1.36449933e-02,  6.19724989e-01, -1.01674002e-01, -3.29100005e-01,\n",
       "       -2.20425007e-01,  2.95680001e-01])"
      ]
     },
     "execution_count": 7,
     "metadata": {},
     "output_type": "execute_result"
    }
   ],
   "source": [
    "def average_vectors(words, w2v):\n",
    "    # YOUR CODE HERE\n",
    "    vectors_sum=np.zeros(len(w2v['the']))\n",
    "    for word in words:\n",
    "        temp=w2v[word]\n",
    "        vectors_sum+=temp\n",
    "    vectors_average=vectors_sum/(len(words))\n",
    "    return vectors_average\n",
    "    raise NotImplementedError()\n",
    "\n",
    "average_vectors(['great', 'wonderful'], w2v)"
   ]
  },
  {
   "cell_type": "code",
   "execution_count": 8,
   "metadata": {
    "deletable": false,
    "editable": false,
    "nbgrader": {
     "cell_type": "code",
     "checksum": "fa1985c666057ec0488140e60f7bc90f",
     "grade": true,
     "grade_id": "avg2",
     "locked": true,
     "points": 1,
     "schema_version": 3,
     "solution": false,
     "task": false
    }
   },
   "outputs": [],
   "source": [
    "assert round(average_vectors(['great', 'wonderful'], w2v)[0].item(), 2) == .10\n",
    "assert round(average_vectors(['great', 'wonderful'], w2v)[1].item(), 2) == 1.12\n",
    "assert average_vectors(['great', 'wonderful'], w2v).shape[0] == 50"
   ]
  },
  {
   "cell_type": "code",
   "execution_count": 9,
   "metadata": {
    "deletable": false,
    "nbgrader": {
     "cell_type": "code",
     "checksum": "cb271d655b0133bc021426d2b90452b4",
     "grade": false,
     "grade_id": "max",
     "locked": false,
     "schema_version": 3,
     "solution": true,
     "task": false
    }
   },
   "outputs": [
    {
     "data": {
      "text/plain": [
       "array([ 2.35330001e-01,  1.33570004e+00, -1.02800000e+00,  6.55950001e-03,\n",
       "        1.28429997e+00, -1.04950003e-01, -3.54330003e-01,  3.78239989e-01,\n",
       "       -2.30460009e-03,  8.82189989e-01, -3.41220014e-02,  9.29610014e-01,\n",
       "        2.85369992e-01,  2.13169996e-02,  7.02049971e-01, -2.15330005e-01,\n",
       "        9.69229996e-01,  6.80580020e-01, -9.64889973e-02, -2.40130007e-01,\n",
       "       -1.46329999e-01,  1.13429999e+00, -1.58649996e-01, -3.44769992e-02,\n",
       "        1.46440005e+00, -4.62229997e-01, -1.38209999e+00,  4.52109993e-01,\n",
       "        9.92200017e-01,  2.08829999e-01,  3.22090006e+00,  6.45489991e-01,\n",
       "        3.74379992e-01, -2.14760005e-02,  2.68559996e-02,  4.29049999e-01,\n",
       "       -1.18900001e-01,  6.97640002e-01, -2.98820008e-02,  5.12319990e-02,\n",
       "        2.04909995e-01,  2.98550010e-01, -3.96820009e-01,  1.10890001e-01,\n",
       "        2.19040006e-01,  6.62509978e-01,  6.61420003e-02, -1.61620006e-01,\n",
       "       -2.46699993e-02,  8.46260011e-01])"
      ]
     },
     "execution_count": 9,
     "metadata": {},
     "output_type": "execute_result"
    }
   ],
   "source": [
    "def max_vectors(words, w2v):\n",
    "    # YOUR CODE HERE  \n",
    "    temp=np.zeros((len(words),len(w2v['the'])))\n",
    "    for index, word in enumerate(words):\n",
    "        temp[index]=w2v[word]\n",
    "    vectors_max=np.array([max(idx) for idx in zip(*temp)])\n",
    "    return vectors_max\n",
    "    raise NotImplementedError()\n",
    "\n",
    "max_vectors(['great', 'wonderful'], w2v)"
   ]
  },
  {
   "cell_type": "code",
   "execution_count": 10,
   "metadata": {
    "deletable": false,
    "editable": false,
    "nbgrader": {
     "cell_type": "code",
     "checksum": "3a2cbc81be791c9ff87304810085d06b",
     "grade": true,
     "grade_id": "max2",
     "locked": true,
     "points": 1,
     "schema_version": 3,
     "solution": false,
     "task": false
    }
   },
   "outputs": [],
   "source": [
    "assert round(max_vectors(['great', 'wonderful'], w2v)[0].item(), 2) == .24\n",
    "assert round(max_vectors(['great', 'wonderful'], w2v)[1].item(), 2) == 1.34\n",
    "assert max_vectors(['great', 'wonderful'], w2v).shape[0] == 50"
   ]
  },
  {
   "cell_type": "code",
   "execution_count": 11,
   "metadata": {
    "deletable": false,
    "nbgrader": {
     "cell_type": "code",
     "checksum": "2a851ef31e1e33d64170e3c858fc7dfe",
     "grade": false,
     "grade_id": "min",
     "locked": false,
     "schema_version": 3,
     "solution": true,
     "task": false
    }
   },
   "outputs": [
    {
     "data": {
      "text/plain": [
       "array([-0.026567  ,  0.91320002, -1.20079994, -0.37290001,  0.52012002,\n",
       "       -0.12699001, -0.46928   , -0.16064   , -0.29716   ,  0.093894  ,\n",
       "       -0.58227003,  0.49886999, -0.14023   , -0.63299   ,  0.020801  ,\n",
       "       -0.24932   ,  0.63964999,  0.47654   , -1.00390005, -0.69283998,\n",
       "       -0.36324999, -0.004757  , -0.51480001, -0.46259999,  1.24469995,\n",
       "       -1.83159995, -1.55809999, -0.37465   ,  0.53362   , -0.55958998,\n",
       "        2.00209999,  0.54034001, -0.080539  , -0.17657   , -0.024164  ,\n",
       "        0.33785999, -0.419     ,  0.40081   , -0.11449   , -0.58077002,\n",
       "       -0.15205   ,  0.095888  , -0.44051999, -0.18708999, -0.24632999,\n",
       "        0.57694   , -0.26949   , -0.49658   , -0.41618001, -0.25490001])"
      ]
     },
     "execution_count": 11,
     "metadata": {},
     "output_type": "execute_result"
    }
   ],
   "source": [
    "def min_vectors(words, w2v):\n",
    "    # YOUR CODE HERE\n",
    "    temp=np.zeros((len(words),len(w2v['the'])))\n",
    "    for index, word in enumerate(words):\n",
    "        temp[index]=w2v[word]\n",
    "    vectors_min=np.array([min(idx) for idx in zip(*temp)])\n",
    "    return vectors_min\n",
    "    raise NotImplementedError()\n",
    "\n",
    "min_vectors(['great', 'wonderful'], w2v)"
   ]
  },
  {
   "cell_type": "code",
   "execution_count": 12,
   "metadata": {
    "deletable": false,
    "editable": false,
    "nbgrader": {
     "cell_type": "code",
     "checksum": "fc835e4bf64dd6d6b126446afa8ed211",
     "grade": true,
     "grade_id": "min2",
     "locked": true,
     "points": 1,
     "schema_version": 3,
     "solution": false,
     "task": false
    }
   },
   "outputs": [],
   "source": [
    "assert round(min_vectors(['great', 'wonderful'], w2v)[0].item(), 2) == -.03\n",
    "assert round(min_vectors(['great', 'wonderful'], w2v)[1].item(), 2) == .91\n",
    "assert min_vectors(['great', 'wonderful'], w2v).shape[0] == 50"
   ]
  },
  {
   "cell_type": "code",
   "execution_count": 13,
   "metadata": {
    "deletable": false,
    "nbgrader": {
     "cell_type": "code",
     "checksum": "0f2b6849b1c3119385494cc346386470",
     "grade": false,
     "grade_id": "minmax",
     "locked": false,
     "schema_version": 3,
     "solution": true,
     "task": false
    }
   },
   "outputs": [
    {
     "data": {
      "text/plain": [
       "array([-2.65670009e-02,  9.13200021e-01, -1.20079994e+00, -3.72900009e-01,\n",
       "        5.20120025e-01, -1.26990005e-01, -4.69280005e-01, -1.60640001e-01,\n",
       "       -2.97160000e-01,  9.38939974e-02, -5.82270026e-01,  4.98869985e-01,\n",
       "       -1.40230000e-01, -6.32990003e-01,  2.08010003e-02, -2.49320000e-01,\n",
       "        6.39649987e-01,  4.76539999e-01, -1.00390005e+00, -6.92839980e-01,\n",
       "       -3.63249987e-01, -4.75700013e-03, -5.14800012e-01, -4.62599993e-01,\n",
       "        1.24469995e+00, -1.83159995e+00, -1.55809999e+00, -3.74650002e-01,\n",
       "        5.33620000e-01, -5.59589982e-01,  2.00209999e+00,  5.40340006e-01,\n",
       "       -8.05390030e-02, -1.76569998e-01, -2.41640005e-02,  3.37859988e-01,\n",
       "       -4.19000000e-01,  4.00810003e-01, -1.14490002e-01, -5.80770016e-01,\n",
       "       -1.52050003e-01,  9.58880037e-02, -4.40519989e-01, -1.87089995e-01,\n",
       "       -2.46329993e-01,  5.76940000e-01, -2.69490004e-01, -4.96580005e-01,\n",
       "       -4.16180015e-01, -2.54900008e-01,  2.35330001e-01,  1.33570004e+00,\n",
       "       -1.02800000e+00,  6.55950001e-03,  1.28429997e+00, -1.04950003e-01,\n",
       "       -3.54330003e-01,  3.78239989e-01, -2.30460009e-03,  8.82189989e-01,\n",
       "       -3.41220014e-02,  9.29610014e-01,  2.85369992e-01,  2.13169996e-02,\n",
       "        7.02049971e-01, -2.15330005e-01,  9.69229996e-01,  6.80580020e-01,\n",
       "       -9.64889973e-02, -2.40130007e-01, -1.46329999e-01,  1.13429999e+00,\n",
       "       -1.58649996e-01, -3.44769992e-02,  1.46440005e+00, -4.62229997e-01,\n",
       "       -1.38209999e+00,  4.52109993e-01,  9.92200017e-01,  2.08829999e-01,\n",
       "        3.22090006e+00,  6.45489991e-01,  3.74379992e-01, -2.14760005e-02,\n",
       "        2.68559996e-02,  4.29049999e-01, -1.18900001e-01,  6.97640002e-01,\n",
       "       -2.98820008e-02,  5.12319990e-02,  2.04909995e-01,  2.98550010e-01,\n",
       "       -3.96820009e-01,  1.10890001e-01,  2.19040006e-01,  6.62509978e-01,\n",
       "        6.61420003e-02, -1.61620006e-01, -2.46699993e-02,  8.46260011e-01])"
      ]
     },
     "execution_count": 13,
     "metadata": {},
     "output_type": "execute_result"
    }
   ],
   "source": [
    "def min_max_vectors(words, w2v):\n",
    "    # YOUR CODE HERE\n",
    "    temp=np.zeros((len(words),len(w2v['the'])))\n",
    "    for index, word in enumerate(words):\n",
    "        temp[index]=w2v[word]\n",
    "    vectors_min=np.array([min(idx) for idx in zip(*temp)])\n",
    "    vectors_max=np.array([max(idx) for idx in zip(*temp)])\n",
    "    vectors_min_max=np.concatenate((vectors_min,vectors_max))\n",
    "    return vectors_min_max\n",
    "    raise NotImplementedError()\n",
    "min_max_vectors(['great', 'wonderful'], w2v)"
   ]
  },
  {
   "cell_type": "code",
   "execution_count": 14,
   "metadata": {
    "deletable": false,
    "editable": false,
    "nbgrader": {
     "cell_type": "code",
     "checksum": "d042928ad6d5dfcd3857568d19bcf24e",
     "grade": true,
     "grade_id": "minmax2",
     "locked": true,
     "points": 1,
     "schema_version": 3,
     "solution": false,
     "task": false
    }
   },
   "outputs": [],
   "source": [
    "assert round(min_max_vectors(['great', 'wonderful'], w2v)[0].item(), 2) == -.03\n",
    "assert round(min_max_vectors(['great', 'wonderful'], w2v)[1].item(), 2) == .91\n",
    "assert min_max_vectors(['great', 'wonderful'], w2v).shape[0] == 100"
   ]
  },
  {
   "cell_type": "markdown",
   "metadata": {},
   "source": [
    "Next, let's read in the movie review data from HW1 and make a bag-of-words feature matrix."
   ]
  },
  {
   "cell_type": "code",
   "execution_count": 15,
   "metadata": {},
   "outputs": [
    {
     "data": {
      "text/html": [
       "<div>\n",
       "<style scoped>\n",
       "    .dataframe tbody tr th:only-of-type {\n",
       "        vertical-align: middle;\n",
       "    }\n",
       "\n",
       "    .dataframe tbody tr th {\n",
       "        vertical-align: top;\n",
       "    }\n",
       "\n",
       "    .dataframe thead th {\n",
       "        text-align: right;\n",
       "    }\n",
       "</style>\n",
       "<table border=\"1\" class=\"dataframe\">\n",
       "  <thead>\n",
       "    <tr style=\"text-align: right;\">\n",
       "      <th></th>\n",
       "      <th>label</th>\n",
       "      <th>text</th>\n",
       "    </tr>\n",
       "  </thead>\n",
       "  <tbody>\n",
       "    <tr>\n",
       "      <th>0</th>\n",
       "      <td>pos</td>\n",
       "      <td>Here's another movie that should be loaded into a satellite, fired into space and pointed in the...</td>\n",
       "    </tr>\n",
       "    <tr>\n",
       "      <th>1</th>\n",
       "      <td>pos</td>\n",
       "      <td>Cuban Blood is one of those sleeper films that has a lot to say about life in a very traditional...</td>\n",
       "    </tr>\n",
       "    <tr>\n",
       "      <th>2</th>\n",
       "      <td>pos</td>\n",
       "      <td>This is not \"so bad that it is good,\" it is purely good! For those who don't understand why, you...</td>\n",
       "    </tr>\n",
       "    <tr>\n",
       "      <th>3</th>\n",
       "      <td>pos</td>\n",
       "      <td>Both visually and musically stunning. A treat for both the eye and the ear. The quintessential V...</td>\n",
       "    </tr>\n",
       "    <tr>\n",
       "      <th>4</th>\n",
       "      <td>pos</td>\n",
       "      <td>'Cry Freedom' is a movie about how far people will go to find the truth.&lt;br /&gt;&lt;br /&gt;The first ha...</td>\n",
       "    </tr>\n",
       "  </tbody>\n",
       "</table>\n",
       "</div>"
      ],
      "text/plain": [
       "  label  \\\n",
       "0   pos   \n",
       "1   pos   \n",
       "2   pos   \n",
       "3   pos   \n",
       "4   pos   \n",
       "\n",
       "                                                                                                  text  \n",
       "0  Here's another movie that should be loaded into a satellite, fired into space and pointed in the...  \n",
       "1  Cuban Blood is one of those sleeper films that has a lot to say about life in a very traditional...  \n",
       "2  This is not \"so bad that it is good,\" it is purely good! For those who don't understand why, you...  \n",
       "3  Both visually and musically stunning. A treat for both the eye and the ear. The quintessential V...  \n",
       "4  'Cry Freedom' is a movie about how far people will go to find the truth.<br /><br />The first ha...  "
      ]
     },
     "execution_count": 15,
     "metadata": {},
     "output_type": "execute_result"
    }
   ],
   "source": [
    "train_df = pd.read_csv('train.tsv', sep='\\t')\n",
    "test_df = pd.read_csv('test.tsv', sep='\\t')\n",
    "train_df.head(5)"
   ]
  },
  {
   "cell_type": "code",
   "execution_count": 16,
   "metadata": {},
   "outputs": [
    {
     "name": "stdout",
     "output_type": "stream",
     "text": [
      "training matrix shape (400, 2069) testing matrix shape (400, 2069)\n",
      "training label distribution Counter({'pos': 200, 'neg': 200})\n",
      "testing label distribution Counter({'pos': 200, 'neg': 200})\n"
     ]
    }
   ],
   "source": [
    "# make bag-of-words feature matrix for train and test, using default tokenization.\n",
    "# we remove a few terms that are not in the w2v model\n",
    "vec = CountVectorizer(max_df=100, min_df=4, binary=True,\n",
    "                      stop_words=['00am', 'hadn', 'parolini', 'virtzer', 'yelli'])\n",
    "X_train = vec.fit_transform(train_df.text)\n",
    "X_test = vec.transform(test_df.text)\n",
    "print('training matrix shape', X_train.shape, 'testing matrix shape', X_test.shape)\n",
    "y_train = train_df.label\n",
    "y_test = test_df.label\n",
    "print('training label distribution', Counter(y_train))\n",
    "print('testing label distribution', Counter(y_test))\n",
    "vocab = np.array(vec.get_feature_names())"
   ]
  },
  {
   "cell_type": "markdown",
   "metadata": {},
   "source": [
    "Next, we'll write a function that takes in a bag-of-words matrix and returns one that uses word vectors.\n",
    "Note that we'll pass in the type of aggregation function as a variable to this function. A few tips:\n",
    "\n",
    "- `vocab` is a numpy array containing the unique terms in the vocabulary\n",
    "- Recall that `X` is a [csr_matrix](https://docs.scipy.org/doc/scipy/reference/generated/scipy.sparse.csr_matrix.html). `X[i].indices` will give the indices for words contained in document i. These indices align with the order of terms in `vocab`.\n",
    "- So, you can iterate over each document, identify the terms in each document, then collect their word vectors and aggregate by using `aggregation_fn`.\n",
    "- The returned value should be a two-dimensional numpy array, where each row is a document and each column is a dimension of the aggregated word embeddings."
   ]
  },
  {
   "cell_type": "code",
   "execution_count": 17,
   "metadata": {
    "deletable": false,
    "nbgrader": {
     "cell_type": "code",
     "checksum": "dc4c85aef4c56f24b5d3bc7a9d49820c",
     "grade": false,
     "grade_id": "featurize",
     "locked": false,
     "schema_version": 3,
     "solution": true,
     "task": false
    }
   },
   "outputs": [
    {
     "data": {
      "text/plain": [
       "array([ 0.21111901,  0.09722338, -0.04589759, -0.19007003,  0.35279757,\n",
       "        0.13560537, -0.32095039, -0.04145774, -0.1663146 ,  0.15858248,\n",
       "       -0.15997647,  0.08090215, -0.27579019,  0.08924073,  0.49825381,\n",
       "        0.04604268,  0.16236084,  0.0540237 , -0.33130682, -0.38498958,\n",
       "       -0.0384452 ,  0.33487061,  0.17044223,  0.08605411,  0.34108114,\n",
       "       -1.33641845, -0.46561578,  0.09500529,  0.434254  , -0.27843537,\n",
       "        2.6622776 ,  0.27640759, -0.12888812, -0.29127656, -0.0231238 ,\n",
       "        0.12369249, -0.00536567,  0.0699095 , -0.13418336, -0.31845105,\n",
       "       -0.16431894,  0.15570083,  0.04516141,  0.1384375 ,  0.05441126,\n",
       "        0.06075109, -0.02255548, -0.15301194, -0.03517219,  0.08741646])"
      ]
     },
     "execution_count": 17,
     "metadata": {},
     "output_type": "execute_result"
    }
   ],
   "source": [
    "def make_word_vector_features(X, vocab, w2v, aggregation_fn):\n",
    "    \"\"\"\n",
    "    a numpy.ndarray with n rows and d columns, where n is the number of documents\n",
    "    in X and d is the word vector dimension resulting from aggregation_fn\n",
    "    \"\"\"\n",
    "    # YOUR CODE HERE\n",
    "    mylist=[]\n",
    "    for i in range(X.shape[0]):\n",
    "        words=vocab[X[i].indices]\n",
    "        temp=aggregation_fn(words, w2v)\n",
    "        mylist.append(temp)\n",
    "    fn=np.array(mylist)\n",
    "    return fn\n",
    "    raise NotImplementedError()\n",
    "            \n",
    "X_train_avg = make_word_vector_features(X_train, vocab, w2v, average_vectors)\n",
    "X_test_avg = make_word_vector_features(X_test, vocab, w2v, average_vectors)\n",
    "\n",
    "X_train_avg[0]"
   ]
  },
  {
   "cell_type": "code",
   "execution_count": 18,
   "metadata": {
    "deletable": false,
    "editable": false,
    "nbgrader": {
     "cell_type": "code",
     "checksum": "af8d3f441e9f02523b6f6b162bfd1970",
     "grade": true,
     "grade_id": "cell-4d7819fc4be35413",
     "locked": true,
     "points": 2,
     "schema_version": 3,
     "solution": false,
     "task": false
    }
   },
   "outputs": [],
   "source": [
    "assert round(float(X_train_avg[0][0]), 2) == 0.21\n",
    "assert round(float(X_train_avg[0][1]), 2) == 0.10"
   ]
  },
  {
   "cell_type": "markdown",
   "metadata": {},
   "source": [
    "Finally, we'll fit a LogisticRegression classifier on top of these embeddings to get our final predictions."
   ]
  },
  {
   "cell_type": "code",
   "execution_count": 19,
   "metadata": {},
   "outputs": [
    {
     "name": "stdout",
     "output_type": "stream",
     "text": [
      "              precision    recall  f1-score   support\n",
      "\n",
      "         neg       0.80      0.78      0.79       200\n",
      "         pos       0.78      0.81      0.79       200\n",
      "\n",
      "    accuracy                           0.79       400\n",
      "   macro avg       0.79      0.79      0.79       400\n",
      "weighted avg       0.79      0.79      0.79       400\n",
      "\n"
     ]
    },
    {
     "data": {
      "text/plain": [
       "LogisticRegression(max_iter=1000)"
      ]
     },
     "execution_count": 19,
     "metadata": {},
     "output_type": "execute_result"
    }
   ],
   "source": [
    "def test_lr(X_train, y_train, X_test, y_test):\n",
    "    \"\"\"\n",
    "    fit a logistic regression classifier and report\n",
    "    accuracy on the testing data.\n",
    "    \"\"\"\n",
    "    lr = LogisticRegression(max_iter=1000)\n",
    "    lr.fit(X_train, train_df.label)\n",
    "    y_pred_lr = lr.predict(X_test)\n",
    "    print(classification_report(test_df.label, y_pred_lr))\n",
    "    return lr\n",
    "\n",
    "# here is the accuracy on the original bag-of-words representation\n",
    "test_lr(X_train, y_train, X_test, y_test)"
   ]
  },
  {
   "cell_type": "code",
   "execution_count": 20,
   "metadata": {},
   "outputs": [
    {
     "name": "stdout",
     "output_type": "stream",
     "text": [
      "average_vectors\n",
      "              precision    recall  f1-score   support\n",
      "\n",
      "         neg       0.75      0.74      0.75       200\n",
      "         pos       0.75      0.76      0.75       200\n",
      "\n",
      "    accuracy                           0.75       400\n",
      "   macro avg       0.75      0.75      0.75       400\n",
      "weighted avg       0.75      0.75      0.75       400\n",
      "\n",
      "min_vectors\n",
      "              precision    recall  f1-score   support\n",
      "\n",
      "         neg       0.60      0.63      0.62       200\n",
      "         pos       0.61      0.58      0.60       200\n",
      "\n",
      "    accuracy                           0.61       400\n",
      "   macro avg       0.61      0.61      0.61       400\n",
      "weighted avg       0.61      0.61      0.61       400\n",
      "\n",
      "max_vectors\n",
      "              precision    recall  f1-score   support\n",
      "\n",
      "         neg       0.69      0.66      0.67       200\n",
      "         pos       0.67      0.70      0.69       200\n",
      "\n",
      "    accuracy                           0.68       400\n",
      "   macro avg       0.68      0.68      0.68       400\n",
      "weighted avg       0.68      0.68      0.68       400\n",
      "\n",
      "min_max_vectors\n",
      "              precision    recall  f1-score   support\n",
      "\n",
      "         neg       0.67      0.66      0.66       200\n",
      "         pos       0.66      0.68      0.67       200\n",
      "\n",
      "    accuracy                           0.67       400\n",
      "   macro avg       0.67      0.67      0.67       400\n",
      "weighted avg       0.67      0.67      0.67       400\n",
      "\n"
     ]
    }
   ],
   "source": [
    "# loop over all four aggreagation functions and report acccuracy.\n",
    "for agg_fn in [average_vectors, min_vectors, max_vectors, min_max_vectors]:\n",
    "    print(agg_fn.__name__)\n",
    "    X_train_i = make_word_vector_features(X_train, vocab, w2v, agg_fn)\n",
    "    X_test_i = make_word_vector_features(X_test, vocab, w2v, agg_fn)\n",
    "    test_lr(X_train_i, y_train, X_test_i, y_test)"
   ]
  },
  {
   "cell_type": "markdown",
   "metadata": {},
   "source": [
    "Oof, that's a lot of work to have worse accuracy than the simple bag-of-words model! Unfortunately, it's not uncommon for this approach to not improve accuracy much for simple document classification tasks. What are possible reasons for this? What could you do to try to find evidence for one of these potential hypotheses? Enter your answer below."
   ]
  },
  {
   "cell_type": "markdown",
   "metadata": {
    "deletable": false,
    "nbgrader": {
     "cell_type": "markdown",
     "checksum": "2caa660884da36cc72fa2e98d4237435",
     "grade": true,
     "grade_id": "explain_bad_vectors",
     "locked": false,
     "points": 3,
     "schema_version": 3,
     "solution": true,
     "task": false
    }
   },
   "source": [
    "In the simple bag-of-words model, every word preserve the original 2056 dimensions, which represents 2096 features, but the aggregate funtions reduces the dimension to 50 or 100, that is 40 or 20 times reduction than the original. In that case, the huge dimension reduction of the features might cause the worse accuracy."
   ]
  },
  {
   "cell_type": "markdown",
   "metadata": {},
   "source": [
    "### Intepreting word vector models\n",
    "\n",
    "In HW1, we could simply look at the top coefficients of the logistic regression model to try to understand what the model has learned. That won't work here, since a large coefficient for \"vector dimension 12\" doesn't tell us much, since we don't know what dimension 12 means.\n",
    "\n",
    "There are a number of ways to make sense of this. A simple one is the following:\n",
    "- Embed each word in the vocabulary.\n",
    "- Use the classifier to predict the class probabilities for a document containing that single word.\n",
    "- We can then use these probabilities as a way to identify terms that the classifier thinks correlate with each class.\n",
    "\n",
    "Let's start by fitting a classifier again using the average embeddings."
   ]
  },
  {
   "cell_type": "code",
   "execution_count": 21,
   "metadata": {},
   "outputs": [
    {
     "name": "stdout",
     "output_type": "stream",
     "text": [
      "              precision    recall  f1-score   support\n",
      "\n",
      "         neg       0.75      0.74      0.75       200\n",
      "         pos       0.75      0.76      0.75       200\n",
      "\n",
      "    accuracy                           0.75       400\n",
      "   macro avg       0.75      0.75      0.75       400\n",
      "weighted avg       0.75      0.75      0.75       400\n",
      "\n"
     ]
    }
   ],
   "source": [
    "X_train_avg = make_word_vector_features(X_train, vocab, w2v, average_vectors)\n",
    "X_test_avg = make_word_vector_features(X_test, vocab, w2v, average_vectors)\n",
    "lr = test_lr(X_train_avg, y_train, X_test_avg, y_test)"
   ]
  },
  {
   "cell_type": "markdown",
   "metadata": {},
   "source": [
    "Now, let's embed each word in the vocabulary for later use.\n",
    "\n",
    "The function below creates a matrix where each row is a word in the vocabulary, and the columns represent its word embedding."
   ]
  },
  {
   "cell_type": "code",
   "execution_count": 22,
   "metadata": {},
   "outputs": [
    {
     "name": "stdout",
     "output_type": "stream",
     "text": [
      "[ 2.5581e-01  4.7584e-01  1.7321e+00 -5.8802e-01  1.5441e-01 -5.8223e-01\n",
      "  3.5984e-01 -7.6233e-01  5.9102e-02 -2.4452e-01 -1.2084e-01 -1.1808e+00\n",
      "  1.3921e+00 -1.0531e+00  1.2464e+00 -1.2706e+00  5.4966e-02  9.2917e-01\n",
      " -6.7983e-01  2.7904e-04  2.0821e-01 -2.8121e-01  1.2211e+00  3.6001e-01\n",
      " -6.4722e-02  1.0667e+00  3.6614e-01 -1.0744e+00 -4.7448e-01  1.8174e-01\n",
      "  1.9686e+00  2.1275e-01  3.2139e-01  8.3837e-01 -1.8424e-02  3.9793e-01\n",
      "  7.0261e-01 -3.2458e-01 -6.5634e-02  2.5243e-01  4.7815e-01 -4.4088e-01\n",
      "  1.4213e+00 -1.8419e-01 -1.6428e-01  4.3174e-02 -5.3504e-01  1.4311e-01\n",
      " -5.2037e-01 -4.1152e-01]\n"
     ]
    },
    {
     "data": {
      "text/plain": [
       "(2069, 50)"
      ]
     },
     "execution_count": 22,
     "metadata": {},
     "output_type": "execute_result"
    }
   ],
   "source": [
    "def embed_words(words, w2v):\n",
    "    return np.vstack([w2v[w] for w in words])\n",
    "\n",
    "vocab_embedding = embed_words(vocab, w2v)\n",
    "print(vocab_embedding[0])\n",
    "vocab_embedding.shape"
   ]
  },
  {
   "cell_type": "markdown",
   "metadata": {},
   "source": [
    "We can now classify each word in `vocab_embedding` to get the probability of the a document containing this single word of being in the positive class. You'll have to use the `predict_proba` method of [LogisticRegression](https://scikit-learn.org/stable/modules/generated/sklearn.linear_model.LogisticRegression.html)."
   ]
  },
  {
   "cell_type": "code",
   "execution_count": 23,
   "metadata": {
    "deletable": false,
    "nbgrader": {
     "cell_type": "code",
     "checksum": "127a6a44345663f2706ba93594d79f9a",
     "grade": false,
     "grade_id": "posprob",
     "locked": false,
     "schema_version": 3,
     "solution": true,
     "task": false
    }
   },
   "outputs": [
    {
     "data": {
      "text/plain": [
       "array([6.77334903e-01, 9.09997920e-01, 9.82301996e-01, ...,\n",
       "       3.35202544e-02, 6.87800168e-04, 6.45608592e-03])"
      ]
     },
     "execution_count": 23,
     "metadata": {},
     "output_type": "execute_result"
    }
   ],
   "source": [
    "def get_probability_of_positive_class(vocab_embedding, lr):\n",
    "    # YOUR CODE HERE\n",
    "    pro_pos=lr.predict_proba(vocab_embedding)\n",
    "    return pro_pos[:,1]\n",
    "    raise NotImplementedError()\n",
    "\n",
    "get_probability_of_positive_class(vocab_embedding, lr)"
   ]
  },
  {
   "cell_type": "code",
   "execution_count": 24,
   "metadata": {
    "deletable": false,
    "editable": false,
    "nbgrader": {
     "cell_type": "code",
     "checksum": "97d31405a0a19f7846938dffa558d734",
     "grade": true,
     "grade_id": "posprob2",
     "locked": true,
     "points": 2,
     "schema_version": 3,
     "solution": false,
     "task": false
    }
   },
   "outputs": [],
   "source": [
    "assert round(get_probability_of_positive_class(vocab_embedding, lr)[0], 2) == .68"
   ]
  },
  {
   "cell_type": "markdown",
   "metadata": {},
   "source": [
    "Now, we can print the top words for each class using the above function."
   ]
  },
  {
   "cell_type": "code",
   "execution_count": 25,
   "metadata": {},
   "outputs": [
    {
     "name": "stdout",
     "output_type": "stream",
     "text": [
      "positive terms\n",
      "        contemporary\t0.9999521551\n",
      "               world\t0.9999488417\n",
      "               music\t0.9999468993\n",
      "           spiritual\t0.9999390107\n",
      "                tour\t0.9999238726\n",
      "               title\t0.9999177620\n",
      "             african\t0.9998882886\n",
      "                 won\t0.9998784259\n",
      "               event\t0.9998696808\n",
      "              spirit\t0.9998440226\n",
      "               games\t0.9998385505\n",
      "             classic\t0.9998315487\n",
      "           adventure\t0.9998191212\n",
      "            festival\t0.9998159115\n",
      "              unique\t0.9998150521\n",
      "                 art\t0.9998040771\n",
      "            showcase\t0.9997882441\n",
      "              events\t0.9997840596\n",
      "            classics\t0.9997828716\n",
      "                star\t0.9997817944\n",
      "\n",
      "negative terms\n",
      "             rubbish\t0.0000006594\n",
      "             garbage\t0.0000015037\n",
      "               trash\t0.0000046485\n",
      "               waste\t0.0000054516\n",
      "              rotten\t0.0000054835\n",
      "              sucked\t0.0000076121\n",
      "                mess\t0.0000108139\n",
      "               dirty\t0.0000154610\n",
      "                 jaw\t0.0000232857\n",
      "                 rip\t0.0000257261\n",
      "              stupid\t0.0000269290\n",
      "                crap\t0.0000299017\n",
      "                cuts\t0.0000305615\n",
      "               blame\t0.0000392712\n",
      "          irritating\t0.0000412003\n",
      "             spoiler\t0.0000419486\n",
      "             unfunny\t0.0000434317\n",
      "                 die\t0.0000491065\n",
      "                skin\t0.0000500240\n",
      "               mouth\t0.0000504424\n"
     ]
    }
   ],
   "source": [
    "def get_top_words(lr, vocab_embeddings, vocab, topn=10):\n",
    "    theta = lr.predict_proba(vocab_embedding)[:,1]\n",
    "    ret = []\n",
    "    print('positive terms')\n",
    "    for i in np.argsort(theta)[::-1][:topn]:\n",
    "        print('%20s\\t%.10f' % (vocab[i], theta[i]))\n",
    "        ret.append(vocab[i])\n",
    "    print()\n",
    "    print('negative terms')\n",
    "    for i in np.argsort(theta)[:topn]:\n",
    "        print('%20s\\t%.10f' % (vocab[i], theta[i]))\n",
    "        ret.append(vocab[i])\n",
    "    return ret\n",
    "top_words = get_top_words(lr, vocab_embedding, vocab, topn=20)"
   ]
  },
  {
   "cell_type": "markdown",
   "metadata": {},
   "source": [
    "Looking back at HW1 and the top terms we found with logistic regression, how do these top terms compare? Does one look better or worse? Why? "
   ]
  },
  {
   "cell_type": "markdown",
   "metadata": {
    "deletable": false,
    "nbgrader": {
     "cell_type": "markdown",
     "checksum": "506b24cd796a3973983fb03ad4fbb906",
     "grade": true,
     "grade_id": "topterms",
     "locked": false,
     "points": 3,
     "schema_version": 3,
     "solution": true,
     "task": false
    }
   },
   "source": [
    "Top positive terms with logstic regression in HW1 are 'great, best, worth, again, watch, excellent, characters, where, role, himself, course, also, most, times, man', top negative terms are 'worst, nothing, bad , terrible, waster, boring, why, awful, because, poor, believe, almost, 1, looks, being'. Most of the results make sense with their labels, but some of them doesn't, like some neutral words 'again, where, himself, also, man, why, because, believe, almost, 1, looks, being'. The word embedding method seems to do a better job than simple logistic regression, every top terms listed above kind of making sense to their labels, but still missing something obvious positive words like 'great, best, excellent'. It's also interesting to see these top terms are quite different from different models, not sure what's casuing that. I thought at least the most of terms should be the same, maybe with different orders, originally. "
   ]
  },
  {
   "cell_type": "markdown",
   "metadata": {},
   "source": [
    "<br><br><br><br><br>\n",
    "\n",
    "## Part II: Sequence Models\n",
    "\n",
    "Next, we'll turn to HMMs and RNNs for the task of part-of-speech tagging. \n",
    "\n",
    "Here is a simple class to store the main data structures we'll need."
   ]
  },
  {
   "cell_type": "code",
   "execution_count": 26,
   "metadata": {},
   "outputs": [],
   "source": [
    "class HMM:\n",
    "    def __init__(self, states, vocab, smoothing=0):\n",
    "        self.states = states\n",
    "        self.vocab = vocab\n",
    "        self.smoothing = smoothing\n",
    "        # we'll set these below.\n",
    "        self.transition_probas = None\n",
    "        self.emission_probas = None\n",
    "        self.start_probas = None"
   ]
  },
  {
   "cell_type": "markdown",
   "metadata": {},
   "source": [
    "Assume we have some training data of sentences and their corresponding part-of-speech tags:\n"
   ]
  },
  {
   "cell_type": "code",
   "execution_count": 27,
   "metadata": {},
   "outputs": [],
   "source": [
    "sentences_small = [\n",
    "                    ['the', 'boy', 'jumped'],\n",
    "                    ['the', 'dog', 'jumped'],\n",
    "                    ['jump', 'dog'],\n",
    "                    ['the', 'ball', 'boy', 'ran']\n",
    "                  ]\n",
    "\n",
    "tags_small = [\n",
    "                ['D', 'N', 'V'],\n",
    "                ['D', 'N', 'V'],\n",
    "                ['V', 'N'],\n",
    "                ['D', 'N', 'N', 'V']\n",
    "            ]\n",
    "\n",
    "states_small = ['D', 'N', 'V']\n",
    "vocab_small =['ball', 'boy', 'dog', 'jump', 'jumped', 'ran', 'the']"
   ]
  },
  {
   "cell_type": "markdown",
   "metadata": {},
   "source": [
    "### transition probabilities\n",
    "\n",
    "First, let's implement a function to fit the transition probabilities. We'll use the add-$k$ smoothed estimates from [lecture](http://cs.tulane.edu/~aculotta/nlp/sequence/hmm2.html). To store the probabilities, we'll use a \"dict of dicts\", like:\n",
    "\n",
    "```\n",
    "{'D': {'D': 0.0, 'N': 1.0, 'V': 0.0},\n",
    " 'N': {'D': 0.0, 'N': 0.25, 'V': 0.75},\n",
    " 'V': {'D': 0.0, 'N': 1.0, 'V': 0.0}}\n",
    "```\n",
    "\n",
    "In this example, the probability of a transition from `N->V` is 0.75.\n",
    "\n",
    "Complete the function below and test your implementation. Note that transitions should appear in the result even if they are not seen in the training data. E.g., above there is a 0 probability transition from D->D. When smoothing is used, this will be non-zero.\n",
    "\n",
    "(If your object-oriented design aesthetics are offended that `fit_transition_probas` is not a method of the HMM class, then they are well-tuned. We are doing it this way solely for ease of testing.)"
   ]
  },
  {
   "cell_type": "code",
   "execution_count": 28,
   "metadata": {
    "deletable": false,
    "nbgrader": {
     "cell_type": "code",
     "checksum": "c9ce671babc3184a70709310f6357476",
     "grade": false,
     "grade_id": "transition",
     "locked": false,
     "schema_version": 3,
     "solution": true,
     "task": false
    }
   },
   "outputs": [],
   "source": [
    "def fit_transition_probas(hmm, tags):\n",
    "    \"\"\"\n",
    "    Given an HMM and a dataset, return the transition probabilities between each pair of states.\n",
    "    \n",
    "    Params:\n",
    "      hmm.....an HMM\n",
    "      tags....a list of list of strings representing the POS tags for a list of sentences.\n",
    "    \"\"\"\n",
    "    # make tags_small into two elements tuples\n",
    "    smoothing=hmm.smoothing\n",
    "    states=hmm.states\n",
    "    vocab=hmm.vocab\n",
    "    tags_tuple=[]\n",
    "    for i in range(len(tags)):\n",
    "        temp=tags[i]\n",
    "        tags_tuple.extend([*zip(temp[::1],temp[1::1])])\n",
    "        #print(tags_tuple)\n",
    "\n",
    "    # count for each tuple\n",
    "    tags_count=Counter(map(tuple,tags_tuple))\n",
    "    tags_dict={}\n",
    "    for tag in sorted(set(states)):\n",
    "        tags_dict[tag]={}\n",
    "        #print(tag)\n",
    "        tags_sum = sum(v for k, v in tags_count.items() if k[0] == tag)\n",
    "        #print(tags_sum)\n",
    "    # calculate transition probability\n",
    "        for pair in set(states):\n",
    "            tags_dict[tag][pair]=(tags_count.get((tag,pair),0)+smoothing) / (tags_sum+smoothing*len(states))\n",
    "    return tags_dict\n",
    "    # YOUR CODE HERE\n",
    "    raise NotImplementedError()"
   ]
  },
  {
   "cell_type": "code",
   "execution_count": 29,
   "metadata": {
    "deletable": false,
    "editable": false,
    "nbgrader": {
     "cell_type": "code",
     "checksum": "48da80367b1c4b9d91a5242c005da39b",
     "grade": true,
     "grade_id": "transition1",
     "locked": true,
     "points": 3,
     "schema_version": 3,
     "solution": false,
     "task": false
    }
   },
   "outputs": [
    {
     "data": {
      "text/plain": [
       "{'D': {'V': 0.0, 'D': 0.0, 'N': 1.0},\n",
       " 'N': {'V': 0.75, 'D': 0.0, 'N': 0.25},\n",
       " 'V': {'V': 0.0, 'D': 0.0, 'N': 1.0}}"
      ]
     },
     "metadata": {},
     "output_type": "display_data"
    }
   ],
   "source": [
    "hmm = HMM(states_small, vocab_small, smoothing=0)\n",
    "hmm.transition_probas = fit_transition_probas(hmm, tags_small)\n",
    "assert 0.750 == round(hmm.transition_probas['N']['V'], 3)\n",
    "assert 0.0 == round(hmm.transition_probas['N']['D'], 1)\n",
    "assert 0.250 == round(hmm.transition_probas['N']['N'], 3)\n",
    "\n",
    "display(dict(hmm.transition_probas))"
   ]
  },
  {
   "cell_type": "code",
   "execution_count": 30,
   "metadata": {
    "deletable": false,
    "editable": false,
    "nbgrader": {
     "cell_type": "code",
     "checksum": "1af6ab17da51fdd049d0311c12fc8758",
     "grade": true,
     "grade_id": "transition2",
     "locked": true,
     "points": 2,
     "schema_version": 3,
     "solution": false,
     "task": false
    }
   },
   "outputs": [],
   "source": [
    "hmm = HMM(states_small, vocab_small, smoothing=1)\n",
    "hmm.transition_probas = fit_transition_probas(hmm, tags_small)\n",
    "assert 0.571 == round(hmm.transition_probas['N']['V'], 3)\n",
    "assert 0.143 == round(hmm.transition_probas['N']['D'], 3)\n",
    "assert 0.286 == round(hmm.transition_probas['N']['N'], 3)"
   ]
  },
  {
   "cell_type": "markdown",
   "metadata": {},
   "source": [
    "### emission probabilities\n",
    "\n",
    "Next, let's fit the emission probabilities."
   ]
  },
  {
   "cell_type": "code",
   "execution_count": 31,
   "metadata": {
    "deletable": false,
    "nbgrader": {
     "cell_type": "code",
     "checksum": "dc7b319d577a4cbf5112b19194151688",
     "grade": false,
     "grade_id": "emissions",
     "locked": false,
     "schema_version": 3,
     "solution": true,
     "task": false
    }
   },
   "outputs": [],
   "source": [
    "def fit_emission_probas(hmm, sentences, tags):\n",
    "    # YOUR CODE HERE\n",
    "    # merge sentences and tags into tuples\n",
    "    smoothing=hmm.smoothing\n",
    "    states=hmm.states\n",
    "    vocab=hmm.vocab\n",
    "    merge_tuple=[]\n",
    "    for i in range(len(tags)):\n",
    "         merge_tuple.extend(tuple(zip(tags[i],sentences[i],)))\n",
    "    # count for each tuple\n",
    "    tuples_count=Counter(map(tuple,merge_tuple))\n",
    "    tuples_dict={}\n",
    "    for tag in sorted(set(states)):\n",
    "        tuples_dict[tag]={}\n",
    "        #print(tag)\n",
    "        tags_sum = sum(v for k, v in tuples_count.items() if k[0] == tag)\n",
    "        #print(tags_sum)\n",
    "    # calculate emission probability\n",
    "        for v in sorted(set(vocab)):\n",
    "            tuples_dict[tag][v]=(tuples_count.get((tag,v),0)+smoothing) / (tags_sum+smoothing*len(vocab))   \n",
    "    return tuples_dict\n",
    "    raise NotImplementedError()"
   ]
  },
  {
   "cell_type": "code",
   "execution_count": 32,
   "metadata": {
    "deletable": false,
    "editable": false,
    "nbgrader": {
     "cell_type": "code",
     "checksum": "ea3e7a6a97cbf92c9675c00b920ef421",
     "grade": true,
     "grade_id": "emissions1",
     "locked": true,
     "points": 2,
     "schema_version": 3,
     "solution": false,
     "task": false
    }
   },
   "outputs": [],
   "source": [
    "hmm = HMM(states_small, vocab_small, smoothing=0)\n",
    "hmm.emission_probas = fit_emission_probas(hmm, sentences_small, tags_small)\n",
    "assert 0.2 == round(hmm.emission_probas['N']['ball'], 1)\n",
    "assert 0.4 == round(hmm.emission_probas['N']['boy'], 1)\n",
    "assert 0.4 == round(hmm.emission_probas['N']['dog'], 1)\n",
    "assert 0.0 == round(hmm.emission_probas['N']['jump'], 1)\n",
    "assert 0.0 == round(hmm.emission_probas['N']['ran'], 1)"
   ]
  },
  {
   "cell_type": "code",
   "execution_count": 33,
   "metadata": {
    "deletable": false,
    "editable": false,
    "nbgrader": {
     "cell_type": "code",
     "checksum": "6361a7e685626d59d119c6f1fca8ff4f",
     "grade": true,
     "grade_id": "emissions2",
     "locked": true,
     "points": 2,
     "schema_version": 3,
     "solution": false,
     "task": false
    }
   },
   "outputs": [],
   "source": [
    "hmm = HMM(states_small, vocab_small, smoothing=1)\n",
    "hmm.emission_probas = fit_emission_probas(hmm, sentences_small, tags_small)\n",
    "assert 0.4 == round(hmm.emission_probas['D']['the'], 1)\n",
    "assert 0.1 == round(hmm.emission_probas['D']['ball'], 1)\n",
    "assert 0.1 == round(hmm.emission_probas['D']['boy'], 1)\n",
    "assert 0.1 == round(hmm.emission_probas['D']['jump'], 1)"
   ]
  },
  {
   "cell_type": "code",
   "execution_count": null,
   "metadata": {
    "deletable": false,
    "editable": false,
    "nbgrader": {
     "cell_type": "code",
     "checksum": "e58489ba0645775d3a39e4c85910bc85",
     "grade": true,
     "grade_id": "emissions3",
     "locked": true,
     "points": 2,
     "schema_version": 3,
     "solution": false,
     "task": false
    }
   },
   "outputs": [],
   "source": []
  },
  {
   "cell_type": "markdown",
   "metadata": {},
   "source": [
    "### start probabilities\n",
    "\n",
    "The final probabilities we need to estimate is the start probabilities. That is, what is the probability of a tag starting a sentence? (For this assignment, we'll ignore end states.)"
   ]
  },
  {
   "cell_type": "code",
   "execution_count": 34,
   "metadata": {
    "deletable": false,
    "nbgrader": {
     "cell_type": "code",
     "checksum": "1bfaa80c9704e0448719c3036f95d2d0",
     "grade": false,
     "grade_id": "start_probas",
     "locked": false,
     "schema_version": 3,
     "solution": true,
     "task": false
    }
   },
   "outputs": [],
   "source": [
    "def fit_start_probas(hmm, tags):\n",
    "    # YOUR CODE HERE\n",
    "    # get start states as a list\n",
    "    smoothing=hmm.smoothing\n",
    "    states=hmm.states\n",
    "    vocab=hmm.vocab\n",
    "    start_list=[]\n",
    "    for i in range(len(tags)):\n",
    "        start=tags[i][0]\n",
    "        start_list.extend(start)\n",
    "    # calculate start probabilty   \n",
    "    start_dict={}\n",
    "    for tag in sorted(set(states)):\n",
    "        start_dict[tag]=(start_list.count(tag)+smoothing)/(len(start_list)+smoothing*len(states))\n",
    "    return start_dict\n",
    "    raise NotImplementedError()"
   ]
  },
  {
   "cell_type": "code",
   "execution_count": 35,
   "metadata": {
    "deletable": false,
    "editable": false,
    "nbgrader": {
     "cell_type": "code",
     "checksum": "88460dbc605201a577e07db235a8052e",
     "grade": true,
     "grade_id": "start_probas2",
     "locked": true,
     "points": 2,
     "schema_version": 3,
     "solution": false,
     "task": false
    }
   },
   "outputs": [],
   "source": [
    "hmm = HMM(states_small, vocab_small, smoothing=0)\n",
    "hmm.start_probas = fit_start_probas(hmm, tags_small)\n",
    "assert 0.75 == round(hmm.start_probas['D'], 2)\n",
    "assert 0.0 == round(hmm.start_probas['N'], 1)\n",
    "assert 0.25 == round(hmm.start_probas['V'], 2)"
   ]
  },
  {
   "cell_type": "markdown",
   "metadata": {},
   "source": [
    "### Viterbi\n",
    "\n",
    "Now that we can estimate all the HMM parameters, we'll implement Viterbi search.\n",
    "\n",
    "This function will return both the most probable state sequence as well as its probability.\n",
    "\n",
    "See the book for more details. One issue is keeping track of which state was chosen at each step. You can do this with a \"backpointer\" matrix to keep track of the best edges. This is a 2d array just like the lattice used by Viterbi. Cell (i,j) stores for state i at time step j the best preceding state at time j-1. That is, it indicates which edge was taken to reach state i at time j. (See [Figure A.10](https://github.com/tulane-cmps6730/main/blob/main/read/slpA.pdf) from the book.)\n"
   ]
  },
  {
   "cell_type": "code",
   "execution_count": 36,
   "metadata": {
    "deletable": false,
    "nbgrader": {
     "cell_type": "code",
     "checksum": "4219571724d7ea459181c9b7b624172f",
     "grade": false,
     "grade_id": "viterbi",
     "locked": false,
     "schema_version": 3,
     "solution": true,
     "task": false
    }
   },
   "outputs": [],
   "source": [
    "def viterbi(hmm, sentence):\n",
    "    \"\"\"\n",
    "    Perform Viterbi search to identify the most probable set of hidden states for\n",
    "    the provided input sentence.\n",
    "    \n",
    "    Be sure that the runtime of your implementation is O(N^2 * T), where N is\n",
    "    the number of states and T is the number of sentence tokens.\n",
    "    \n",
    "    \n",
    "\n",
    "    Params:\n",
    "      sentence...a lists of strings, representing the tokens in a single sentence.\n",
    "\n",
    "    Returns:\n",
    "      path....a list of strings indicating the most probable path of POS tags for\n",
    "              this sentence.\n",
    "      proba...a float indicating the probability of this path.\n",
    "    \"\"\"\n",
    "    # YOUR CODE HERE\n",
    "    states=hmm.states\n",
    "    start_probas=hmm.start_probas\n",
    "    emission_probas=hmm.emission_probas\n",
    "    transition_probas=hmm.transition_probas\n",
    "    vit=np.zeros(shape=(len(states),len(sentence)))\n",
    "    backpointer=np.zeros(shape=(len(states),len(sentence)))\n",
    "    \n",
    "    # initialization step\n",
    "    for i,s in enumerate(states):\n",
    "        #print(sentence[0])\n",
    "        vit[i][0]=start_probas[s]*(emission_probas[s][sentence[0]])\n",
    "        backpointer[i][0]=0\n",
    "        #print(s)\n",
    "    # recursion step\n",
    "    for t in range(1,len(sentence)):\n",
    "        for i,s in enumerate(states):\n",
    "            lst = [v[s] for v in transition_probas.values()]\n",
    "            max_value=max(lst*vit[:,t-1]) \n",
    "            #print(sentence[t])\n",
    "            vit[i][t]=max_value*emission_probas[s][sentence[t]]\n",
    "            backpointer[i][t]=np.argmax(lst*vit[:,t-1])\n",
    "    # no termination step since no end state\n",
    "    # trace back the path\n",
    "    j=np.argmax(vit[:,-1])\n",
    "    arr=[j]\n",
    "    for p in range(len(sentence),1,-1):\n",
    "        i=backpointer[j,p-1]\n",
    "        arr.append(i)\n",
    "        j=1\n",
    "    path=[]\n",
    "    for i in reversed(arr):\n",
    "        path.append(states[int(i)])\n",
    "    proba=max(vit[:,-1])\n",
    "    return path, proba\n",
    "    raise NotImplementedError()"
   ]
  },
  {
   "cell_type": "code",
   "execution_count": 37,
   "metadata": {
    "deletable": false,
    "editable": false,
    "nbgrader": {
     "cell_type": "code",
     "checksum": "e0e388a86a8f49b6bd994d2f5d833175",
     "grade": true,
     "grade_id": "viterbi1",
     "locked": true,
     "points": 6,
     "schema_version": 3,
     "solution": false,
     "task": false
    }
   },
   "outputs": [],
   "source": [
    "\"\"\"\n",
    "To test our implementation, we'll consider the sentence \"time flies like an arrow\".\n",
    "There is ambiguity in the word \"flies\", which could be a noun or verb, as well\n",
    "as the word \"like,\" which could be a preposition or a verb. \n",
    "\"\"\"\n",
    "hmm = HMM(states=['D', 'N', 'P', 'V'],\n",
    "          vocab=['an', 'arrow', 'flies', 'like', 'time'],\n",
    "          smoothing=0)\n",
    "\n",
    "hmm.start_probas = {\n",
    "                    'D': .3,\n",
    "                    'N': .4,\n",
    "                    'P': .1,\n",
    "                    'V': .2,\n",
    "                   }\n",
    "\n",
    "hmm.emission_probas = {\n",
    "                         'D': {'time': 0.0, 'flies': 0.0, 'like': 0.0, 'an': 1.0, 'arrow': 0.0},\n",
    "                         'V': {'time': 0.0, 'flies': 0.5, 'like': 0.5, 'an': 0.0, 'arrow': 0.0},\n",
    "                         'P': {'time': 0.0, 'flies': 0.0, 'like': 1.0, 'an': 0.0, 'arrow': 0.0},\n",
    "                         'N': {'time': 0.3, 'flies': 0.3, 'like': 0.0, 'an': 0.0, 'arrow': 0.4}\n",
    "                      }\n",
    "hmm.transition_probas = {  \n",
    "                           'D': {'D': 0.0, 'N': 1.0, 'P': 0.0, 'V': 0.0},\n",
    "                           'N': {'D': 0.0, 'N': 0.3, 'P': 0.2, 'V': 0.5},\n",
    "                           'P': {'D': 0.8, 'N': 0.2, 'P': 0.0, 'V': 0.0},\n",
    "                           'V': {'D': 0.2, 'N': 0.5, 'P': 0.3, 'V': 0.0}\n",
    "                        }\n",
    "\n",
    "path, proba = viterbi(hmm, ['time', 'flies', 'like', 'an', 'arrow'])\n",
    "assert list(path) ==  ['N', 'V', 'P', 'D', 'N']\n",
    "assert .003 == round(proba, 3)"
   ]
  },
  {
   "cell_type": "code",
   "execution_count": null,
   "metadata": {
    "deletable": false,
    "editable": false,
    "nbgrader": {
     "cell_type": "code",
     "checksum": "059a99ae99b915934121d7a19bf3c9e5",
     "grade": true,
     "grade_id": "viterbi2",
     "locked": true,
     "points": 3,
     "schema_version": 3,
     "solution": false,
     "task": false
    }
   },
   "outputs": [],
   "source": []
  },
  {
   "cell_type": "markdown",
   "metadata": {
    "deletable": false,
    "editable": false,
    "nbgrader": {
     "cell_type": "markdown",
     "checksum": "4e4ef0b8fb0d52c255ba2d37f2366ffd",
     "grade": false,
     "grade_id": "second-best-d",
     "locked": true,
     "schema_version": 3,
     "solution": false,
     "task": false
    }
   },
   "source": [
    "Sometimes we want to find the second most probable output path for an input sentence. In the cell below, describe in words an algorithm to find the second most probable path. What is its Big-Oh runtime?"
   ]
  },
  {
   "cell_type": "markdown",
   "metadata": {
    "deletable": false,
    "nbgrader": {
     "cell_type": "markdown",
     "checksum": "fec681361e1655f08106d9b581af8b48",
     "grade": true,
     "grade_id": "second-best",
     "locked": false,
     "points": 3,
     "schema_version": 3,
     "solution": true,
     "task": false
    }
   },
   "source": [
    "In the traditional Viterbi method, we only stored the max value at each viterbi(i,t)-- the largest probability of the hidden state sequence is in state i in time t. To find the second most probable output path, we extend the viterbi matrix, instead of taking the max, we store the top 2 probabilities with order, same as the backpointer. When tracing back the path, we start with the second max probability in $viterbi[:,-1]$. The space will increase twice, but the big-oh runtime will stay same as O(N^2 * T), where N is the number of states and T is the number of sentence tokens, since only replacing the one max operation O(n) into two max operation O(2n)=O(n)."
   ]
  },
  {
   "cell_type": "markdown",
   "metadata": {},
   "source": [
    "### running your HMM on real data\n",
    "\n",
    "Now that your HMM is working, we'll apply it to some real data. The file `pos.txt` contains sentences from news articles that have been annotated with their parts-of-speech. A list of part-of-speech tag definitions can be found [here](https://www.ling.upenn.edu/courses/Fall_2003/ling001/penn_treebank_pos.html)."
   ]
  },
  {
   "cell_type": "code",
   "execution_count": 38,
   "metadata": {},
   "outputs": [
    {
     "name": "stdout",
     "output_type": "stream",
     "text": [
      "read 84 sentences containing 1894 tokens\n"
     ]
    }
   ],
   "source": [
    "def read_labeled_data(filename):\n",
    "    sentences = []\n",
    "    tags = []\n",
    "    cur_sentence = []\n",
    "    cur_tags = []\n",
    "    for line in open(filename):\n",
    "        parts = line.split()\n",
    "        if len(parts) < 2: # next sentence\n",
    "            sentences.append(cur_sentence)\n",
    "            tags.append(cur_tags)\n",
    "            cur_sentence = []\n",
    "            cur_tags = []\n",
    "        else:\n",
    "            cur_sentence.append(parts[0])\n",
    "            cur_tags.append(parts[1])\n",
    "    return sentences, tags\n",
    "sentences, tags = read_labeled_data('pos.txt')\n",
    "print('read %d sentences containing %d tokens' % (len(sentences), sum(len(s) for s in sentences)))"
   ]
  },
  {
   "cell_type": "code",
   "execution_count": 39,
   "metadata": {},
   "outputs": [
    {
     "name": "stdout",
     "output_type": "stream",
     "text": [
      "34 unique states\n",
      "716 unique words\n"
     ]
    }
   ],
   "source": [
    "# find the unique set of states\n",
    "states = set()\n",
    "for tag_list in tags:\n",
    "    states.update(tag_list)\n",
    "states = sorted(list(states))\n",
    "print('%d unique states' % len(states))\n",
    "\n",
    "# find the vocabulary\n",
    "vocab = set()\n",
    "for sentence in sentences:\n",
    "    vocab.update(sentence)\n",
    "vocab = sorted(list(vocab))\n",
    "print('%d unique words' % len(vocab))"
   ]
  },
  {
   "cell_type": "code",
   "execution_count": 40,
   "metadata": {
    "deletable": false,
    "editable": false,
    "nbgrader": {
     "cell_type": "code",
     "checksum": "d4bfcac9973eb3c16cd73a5a85f372f6",
     "grade": true,
     "grade_id": "hmm-all",
     "locked": true,
     "points": 3,
     "schema_version": 3,
     "solution": false,
     "task": false
    }
   },
   "outputs": [
    {
     "name": "stdout",
     "output_type": "stream",
     "text": [
      "predicted parts of speech for the sentence ['Look', 'at', 'what', 'happened']\n",
      "['VB', 'IN', 'WP', 'VBD'] 1.963133085490266e-13\n"
     ]
    }
   ],
   "source": [
    "train_sentences, test_sentences = sentences[:-10], sentences[-10:]\n",
    "train_tags, test_tags = tags[:-10], tags[-10:]\n",
    "\n",
    "hmm = HMM(states=states, vocab=vocab, smoothing=0.001)\n",
    "hmm.start_probas = fit_start_probas(hmm, train_tags)\n",
    "hmm.transition_probas = fit_transition_probas(hmm, train_tags)\n",
    "hmm.emission_probas = fit_emission_probas(hmm, train_sentences, train_tags)\n",
    "sentence = ['Look', 'at', 'what', 'happened']\n",
    "print('predicted parts of speech for the sentence %s' % str(sentence))\n",
    "path, proba = viterbi(hmm, sentence)\n",
    "print(path, proba)\n",
    "assert path == ['VB', 'IN', 'WP', 'VBD']"
   ]
  },
  {
   "cell_type": "markdown",
   "metadata": {},
   "source": [
    "There are many ways to evaluate accuracy of an HMM. A simple way is to compute the accuracy averaged over all tokens."
   ]
  },
  {
   "cell_type": "code",
   "execution_count": 41,
   "metadata": {},
   "outputs": [
    {
     "name": "stdout",
     "output_type": "stream",
     "text": [
      "              precision    recall  f1-score   support\n",
      "\n",
      "           $       1.00      1.00      1.00         7\n",
      "          ''       0.00      0.00      0.00         0\n",
      "           ,       0.81      1.00      0.90        13\n",
      "           .       0.16      1.00      0.28        10\n",
      "          CC       1.00      1.00      1.00         8\n",
      "          CD       1.00      0.75      0.86        16\n",
      "          DT       1.00      1.00      1.00        13\n",
      "          EX       0.00      0.00      0.00         0\n",
      "          IN       1.00      0.69      0.82        29\n",
      "          JJ       1.00      0.20      0.33        15\n",
      "         JJR       0.00      0.00      0.00         3\n",
      "         JJS       0.00      0.00      0.00         0\n",
      "          NN       1.00      0.33      0.50        36\n",
      "         NNP       1.00      0.17      0.29        29\n",
      "        NNPS       0.00      0.00      0.00         1\n",
      "         NNS       1.00      0.22      0.36        27\n",
      "         POS       1.00      1.00      1.00         2\n",
      "          RB       0.00      0.00      0.00         1\n",
      "         RBR       0.17      1.00      0.29         1\n",
      "          TO       1.00      1.00      1.00         6\n",
      "          VB       0.67      0.67      0.67         3\n",
      "         VBD       1.00      0.33      0.50         9\n",
      "         VBN       0.40      1.00      0.57         2\n",
      "         VBP       0.00      0.00      0.00         0\n",
      "         WDT       0.00      0.00      0.00         1\n",
      "\n",
      "    accuracy                           0.54       232\n",
      "   macro avg       0.57      0.49      0.45       232\n",
      "weighted avg       0.91      0.54      0.59       232\n",
      "\n"
     ]
    }
   ],
   "source": [
    "def evaluate(hmm, sentences, tags):\n",
    "    truths = []\n",
    "    preds = []\n",
    "    for sentence, tag_list in zip(sentences, tags):\n",
    "        path, proba = viterbi(hmm, sentence)\n",
    "        truths.extend(tag_list)\n",
    "        preds.extend(path)\n",
    "    print(classification_report(truths, preds, zero_division=0))\n",
    "    \n",
    "evaluate(hmm, test_sentences, test_tags)"
   ]
  },
  {
   "cell_type": "markdown",
   "metadata": {},
   "source": [
    "What will happen if the HMM encounters a word that is not in `vocab`?  How could you fix this?"
   ]
  },
  {
   "cell_type": "markdown",
   "metadata": {
    "deletable": false,
    "nbgrader": {
     "cell_type": "markdown",
     "checksum": "d3abb38429edf5161d5a3d977364bc83",
     "grade": true,
     "grade_id": "missing-word",
     "locked": false,
     "points": 3,
     "schema_version": 3,
     "solution": true,
     "task": false
    }
   },
   "source": [
    "I think the smoothing techniques can handle it, a smoothed emission probability will be preserve in every state for the unseen words, can be denoted by $P(unknown|state)$. Every time the HMM encounters a word that is not in vocab, we can use the $P(unknown|state)$ as the emission probability."
   ]
  },
  {
   "cell_type": "markdown",
   "metadata": {},
   "source": [
    "## Part III: RNNs for POS tagging\n",
    "\n",
    "Finally, we'll apply RNNs to this task. Below is a slightly modified version of the RNN we introduced in lecture.\n",
    "\n",
    "We'll first train it using the `small` dataset."
   ]
  },
  {
   "cell_type": "code",
   "execution_count": 42,
   "metadata": {},
   "outputs": [],
   "source": [
    "class RNN(nn.Module):\n",
    "    def __init__(self, input_size, hidden_size, output_size, states, verbose=True):\n",
    "        super(RNN, self).__init__()\n",
    "        self.states = states\n",
    "        self.verbose = verbose\n",
    "        self.n_hidden = hidden_size\n",
    "        # W_xh\n",
    "        self.input_to_hidden = nn.Linear(input_size, hidden_size)\n",
    "        # W_hh\n",
    "        self.hidden_to_hidden = nn.Linear(hidden_size, hidden_size)\n",
    "        # W_hy\n",
    "        self.hidden_to_output = nn.Linear(hidden_size, output_size)\n",
    "        self.tanh = nn.Tanh()\n",
    "        self.softmax = nn.Softmax(dim=1)\n",
    "        \n",
    "    def forward(self, x, h_prev):\n",
    "        # tanh(𝑊_hh h_t-1 + W_xh x_t)\n",
    "        h_new = self.tanh(self.hidden_to_hidden(h_prev) + self.input_to_hidden(x))\n",
    "        # y_h = softmax(W_hy h)\n",
    "        output = self.softmax(self.hidden_to_output(h_new))\n",
    "        \n",
    "        if self.verbose: print('h_new\\n', h_new, '\\noutput\\n',output, '\\ntop output\\n', output2label(output, self.states))\n",
    "        return output, h_new\n",
    "    \n",
    "    def forward_unrolled(self, x_list):\n",
    "        \"\"\"\n",
    "        Given a character list, unroll the network and gather\n",
    "        predictions for each time step.\n",
    "        \"\"\"\n",
    "        hidden = torch.zeros(1, self.n_hidden)\n",
    "        outputs = []\n",
    "        hiddens = []\n",
    "        for x in x_list:\n",
    "            output, hidden = self.forward(x, hidden)\n",
    "            outputs.append(output)\n",
    "            hiddens.append(hidden)\n",
    "        return torch.cat(outputs), hidden\n",
    "    \n",
    "def output2label(output, states):\n",
    "    \"\"\"\n",
    "    return the letter for the most probable prediction\n",
    "    \"\"\"\n",
    "    top_n, top_i = output.topk(1)\n",
    "    return states[top_i.item()] # , math.exp(top_n)\n",
    "\n",
    "\n",
    "def one_hot(vocab, word):\n",
    "    x = torch.zeros((1, len(vocab)))\n",
    "    x[0][vocab.index(word)] = 1.0\n",
    "    return x\n",
    "\n",
    "def one_hots(vocab, words):\n",
    "    return torch.cat([one_hot(vocab, w) for w in words])\n",
    "\n",
    "torch.random.manual_seed(42)\n",
    "rnn = RNN(len(vocab_small), 2, len(states_small), states_small)"
   ]
  },
  {
   "cell_type": "code",
   "execution_count": 43,
   "metadata": {},
   "outputs": [
    {
     "name": "stdout",
     "output_type": "stream",
     "text": [
      "h_new\n",
      " tensor([[-0.3163, -0.0849]], grad_fn=<TanhBackward>) \n",
      "output\n",
      " tensor([[0.2940, 0.1594, 0.5466]], grad_fn=<SoftmaxBackward>) \n",
      "top output\n",
      " V\n",
      "h_new\n",
      " tensor([[-0.0111,  0.2785]], grad_fn=<TanhBackward>) \n",
      "output\n",
      " tensor([[0.3631, 0.1358, 0.5010]], grad_fn=<SoftmaxBackward>) \n",
      "top output\n",
      " V\n",
      "h_new\n",
      " tensor([[-0.2006, -0.0117]], grad_fn=<TanhBackward>) \n",
      "output\n",
      " tensor([[0.3072, 0.1523, 0.5404]], grad_fn=<SoftmaxBackward>) \n",
      "top output\n",
      " V\n"
     ]
    }
   ],
   "source": [
    "# here's a prediction for one sentence, with random weights\n",
    "outputs, hiddens = rnn.forward_unrolled(one_hots(vocab_small, ['the', 'boy', 'jumped']))"
   ]
  },
  {
   "cell_type": "code",
   "execution_count": 44,
   "metadata": {},
   "outputs": [
    {
     "data": {
      "text/plain": [
       "(tensor([[0., 0., 0., 0., 0., 0., 1.],\n",
       "         [0., 1., 0., 0., 0., 0., 0.],\n",
       "         [0., 0., 0., 0., 1., 0., 0.]]), tensor([[1., 0., 0.],\n",
       "         [0., 1., 0.],\n",
       "         [0., 0., 1.]]))"
      ]
     },
     "execution_count": 44,
     "metadata": {},
     "output_type": "execute_result"
    }
   ],
   "source": [
    "# we'll have to one-hot-encode both the input words and output states to create the data.\n",
    "rnn_data_small = [(one_hots(vocab_small, sentence), one_hots(states_small, tag_list)) \n",
    "                    for sentence, tag_list in zip(sentences_small, tags_small)]\n",
    "rnn_data_small[0]"
   ]
  },
  {
   "cell_type": "code",
   "execution_count": 45,
   "metadata": {},
   "outputs": [
    {
     "name": "stderr",
     "output_type": "stream",
     "text": [
      "100%|██████████| 10/10 [00:00<00:00, 77.92it/s]\n"
     ]
    },
    {
     "data": {
      "image/png": "[encoded data removed]",
      "text/plain": [
       "<Figure size 432x288 with 1 Axes>"
      ]
     },
     "metadata": {
      "needs_background": "light"
     },
     "output_type": "display_data"
    },
    {
     "data": {
      "image/png": "[encoded data removed]",
      "text/plain": [
       "<Figure size 432x288 with 1 Axes>"
      ]
     },
     "metadata": {
      "needs_background": "light"
     },
     "output_type": "display_data"
    },
    {
     "data": {
      "text/plain": [
       "RNN(\n",
       "  (input_to_hidden): Linear(in_features=7, out_features=2, bias=True)\n",
       "  (hidden_to_hidden): Linear(in_features=2, out_features=2, bias=True)\n",
       "  (hidden_to_output): Linear(in_features=2, out_features=3, bias=True)\n",
       "  (tanh): Tanh()\n",
       "  (softmax): Softmax(dim=1)\n",
       ")"
      ]
     },
     "execution_count": 45,
     "metadata": {},
     "output_type": "execute_result"
    }
   ],
   "source": [
    "def train_rnn(rnn, train_data, test_data, epochs=20, learning_rate=0.1):\n",
    "    torch.random.manual_seed(42)  # for reproducibility\n",
    "    criterion = nn.BCELoss()\n",
    "    optimizer = torch.optim.Adam(rnn.parameters(),\n",
    "                                 lr=learning_rate) \n",
    "    rnn.verbose = False\n",
    "    loss_val = []\n",
    "    test_acc = []\n",
    "    # main training loop\n",
    "    # here, we're updating after each sentence.\n",
    "    # to improve convergence, we should really use mini-batches (e.g., a group of ~20 sentences)\n",
    "    # but, this is a bit easier.\n",
    "    for epoch in tqdm(range(epochs), total=epochs):\n",
    "        for sentence, tags in train_data:\n",
    "            optimizer.zero_grad()                             # reset all the gradient information\n",
    "            outputs, hiddens = rnn.forward_unrolled(sentence) # predict on this sentence\n",
    "            loss = criterion(outputs, tags)                   # compute loss\n",
    "            loss.backward()                                   # computes all the gradients\n",
    "            optimizer.step()                                  # update parameters\n",
    "            loss_val.append(loss.item())                      # track loss on each sentence\n",
    "        # after each epoch, record the test accuracy.\n",
    "        test_acc.append(evaluate_rnn(rnn, test_data, verbose=False))\n",
    "\n",
    "    # plot training loss\n",
    "    plt.figure()\n",
    "    plt.plot(loss_val, 'bo-')\n",
    "    plt.ylabel('loss')\n",
    "    plt.xlabel('instance')\n",
    "    plt.title('training')\n",
    "    plt.show()\n",
    "    # plot testing F1\n",
    "    plt.figure()\n",
    "    plt.plot(test_acc, 'bo-')\n",
    "    plt.ylabel('f1')\n",
    "    plt.xlabel('epoch')\n",
    "    plt.title('testing')\n",
    "    plt.show()\n",
    "    \n",
    "    return rnn\n",
    "\n",
    "\n",
    "def evaluate_rnn(rnn, data, verbose=True):\n",
    "    rnn.verbose = False\n",
    "    truths = []\n",
    "    preds = []\n",
    "    for sentence, tag_list in data:\n",
    "        outputs, _ = rnn.forward_unrolled(sentence)\n",
    "        pred = [output2label(output, rnn.states) for output in outputs]\n",
    "        truth = [output2label(tag, rnn.states) for tag in tag_list]\n",
    "        truths.extend(truth)\n",
    "        preds.extend(pred)\n",
    "    if verbose:\n",
    "        print(classification_report(truths, preds, zero_division=0))\n",
    "    return f1_score(truths, preds, average='weighted')\n",
    "\n",
    "rnn = RNN(len(vocab_small), 2, len(states_small), states_small)\n",
    "train_rnn(rnn, rnn_data_small, rnn_data_small, epochs=10)"
   ]
  },
  {
   "cell_type": "markdown",
   "metadata": {},
   "source": [
    "The RNN seems to have no problem fitting this tiny dataset."
   ]
  },
  {
   "cell_type": "code",
   "execution_count": 46,
   "metadata": {},
   "outputs": [
    {
     "name": "stdout",
     "output_type": "stream",
     "text": [
      "h_new\n",
      " tensor([[0.9846, 0.9784]], grad_fn=<TanhBackward>) \n",
      "output\n",
      " tensor([[0.9866, 0.0082, 0.0053]], grad_fn=<SoftmaxBackward>) \n",
      "top output\n",
      " D\n",
      "h_new\n",
      " tensor([[ 0.6585, -0.9980]], grad_fn=<TanhBackward>) \n",
      "output\n",
      " tensor([[4.6534e-03, 9.9509e-01, 2.5693e-04]], grad_fn=<SoftmaxBackward>) \n",
      "top output\n",
      " N\n",
      "h_new\n",
      " tensor([[-0.9099,  0.9711]], grad_fn=<TanhBackward>) \n",
      "output\n",
      " tensor([[0.0046, 0.0027, 0.9927]], grad_fn=<SoftmaxBackward>) \n",
      "top output\n",
      " V\n"
     ]
    }
   ],
   "source": [
    "# here's one prediction of the trained RNN\n",
    "rnn.verbose=True\n",
    "_, _ = rnn.forward_unrolled(one_hots(vocab_small, ['the', 'boy', 'jumped']))"
   ]
  },
  {
   "cell_type": "markdown",
   "metadata": {},
   "source": [
    "### RNNs on real data.\n",
    "\n",
    "Next, we'll try the larger dataset."
   ]
  },
  {
   "cell_type": "code",
   "execution_count": 47,
   "metadata": {},
   "outputs": [
    {
     "name": "stdout",
     "output_type": "stream",
     "text": [
      "74 training and 10 testing sentences\n"
     ]
    }
   ],
   "source": [
    "# one-hot-encode the larger POS dataset\n",
    "rnn_data = [(one_hots(vocab, sentence), one_hots(states, tag_list)) \n",
    "            for sentence, tag_list in zip(sentences, tags)]\n",
    "rnn_data_train, rnn_data_test = rnn_data[:-10], rnn_data[-10:]\n",
    "print('%d training and %d testing sentences' % (len(rnn_data_train), len(rnn_data_test)))"
   ]
  },
  {
   "cell_type": "code",
   "execution_count": 48,
   "metadata": {},
   "outputs": [
    {
     "name": "stderr",
     "output_type": "stream",
     "text": [
      "100%|██████████| 15/15 [00:08<00:00,  1.77it/s]\n"
     ]
    },
    {
     "data": {
      "image/png": "[encoded data removed]",
      "text/plain": [
       "<Figure size 432x288 with 1 Axes>"
      ]
     },
     "metadata": {
      "needs_background": "light"
     },
     "output_type": "display_data"
    },
    {
     "data": {
      "image/png": "[encoded data removed]",
      "text/plain": [
       "<Figure size 432x288 with 1 Axes>"
      ]
     },
     "metadata": {
      "needs_background": "light"
     },
     "output_type": "display_data"
    },
    {
     "data": {
      "text/plain": [
       "RNN(\n",
       "  (input_to_hidden): Linear(in_features=716, out_features=5, bias=True)\n",
       "  (hidden_to_hidden): Linear(in_features=5, out_features=5, bias=True)\n",
       "  (hidden_to_output): Linear(in_features=5, out_features=34, bias=True)\n",
       "  (tanh): Tanh()\n",
       "  (softmax): Softmax(dim=1)\n",
       ")"
      ]
     },
     "execution_count": 48,
     "metadata": {},
     "output_type": "execute_result"
    }
   ],
   "source": [
    "rnn = RNN(len(vocab), 5, len(states), states)\n",
    "train_rnn(rnn, rnn_data_train, rnn_data_test, epochs=15)"
   ]
  },
  {
   "cell_type": "code",
   "execution_count": 49,
   "metadata": {},
   "outputs": [
    {
     "name": "stdout",
     "output_type": "stream",
     "text": [
      "h_new\n",
      " tensor([[0.9965, 0.9813, 0.9988, 0.9570, 0.6198]], grad_fn=<TanhBackward>) \n",
      "output\n",
      " tensor([[1.9172e-06, 4.4384e-03, 6.4357e-07, 2.8079e-09, 4.7023e-02, 6.1971e-10,\n",
      "         2.5682e-07, 1.7403e-04, 7.9962e-03, 9.1169e-08, 5.3499e-09, 1.2147e-03,\n",
      "         1.9331e-02, 5.9480e-03, 2.7491e-09, 2.3138e-10, 2.2799e-05, 2.4168e-07,\n",
      "         4.8642e-04, 2.3539e-07, 1.1798e-06, 4.4902e-06, 2.5828e-04, 2.8876e-09,\n",
      "         8.6125e-01, 2.0788e-14, 1.8987e-03, 1.5635e-08, 2.0317e-04, 1.1998e-10,\n",
      "         1.4547e-03, 1.0509e-04, 3.3347e-03, 4.4850e-02]],\n",
      "       grad_fn=<SoftmaxBackward>) \n",
      "top output\n",
      " VB\n",
      "h_new\n",
      " tensor([[ 0.9999, -1.0000, -0.9896,  0.9999, -0.9957]], grad_fn=<TanhBackward>) \n",
      "output\n",
      " tensor([[1.7266e-11, 1.5394e-07, 6.9717e-10, 1.0178e-11, 3.7293e-07, 3.8560e-07,\n",
      "         2.7600e-05, 3.5626e-15, 9.6915e-11, 9.9754e-01, 9.7276e-09, 9.6481e-10,\n",
      "         4.3284e-07, 2.2767e-12, 7.6224e-11, 2.0586e-05, 9.5829e-08, 1.5947e-14,\n",
      "         1.2078e-07, 1.8060e-10, 1.2411e-05, 8.4682e-04, 3.7661e-07, 1.1941e-07,\n",
      "         2.3114e-11, 3.5508e-08, 3.8010e-09, 1.4519e-03, 2.1279e-07, 4.8537e-13,\n",
      "         1.8064e-08, 9.8413e-05, 1.8709e-08, 9.3021e-10]],\n",
      "       grad_fn=<SoftmaxBackward>) \n",
      "top output\n",
      " IN\n",
      "h_new\n",
      " tensor([[ 0.9996, -0.9942,  0.9028,  0.9982, -0.9663]], grad_fn=<TanhBackward>) \n",
      "output\n",
      " tensor([[2.2512e-07, 2.8569e-03, 1.6731e-11, 6.7468e-08, 3.8409e-05, 3.7572e-09,\n",
      "         1.4262e-01, 1.5207e-11, 5.5558e-06, 6.0235e-02, 4.7982e-10, 1.2538e-04,\n",
      "         2.7718e-04, 7.1706e-08, 2.7365e-08, 8.4262e-09, 3.2509e-10, 6.7466e-14,\n",
      "         1.4830e-03, 3.5749e-07, 1.5476e-06, 7.1825e-04, 3.0887e-03, 1.0050e-02,\n",
      "         3.5223e-06, 2.0161e-05, 5.5179e-03, 9.4864e-05, 5.1684e-02, 3.3987e-10,\n",
      "         8.7839e-06, 7.2046e-01, 3.4050e-04, 3.6974e-04]],\n",
      "       grad_fn=<SoftmaxBackward>) \n",
      "top output\n",
      " WP\n",
      "h_new\n",
      " tensor([[-0.4908, -0.9906,  0.8527, -0.8601, -0.9688]], grad_fn=<TanhBackward>) \n",
      "output\n",
      " tensor([[7.1691e-07, 1.4489e-08, 5.1390e-12, 9.9287e-07, 8.1948e-12, 1.0646e-08,\n",
      "         1.8416e-04, 3.4799e-12, 3.9289e-09, 2.6732e-08, 1.5094e-09, 3.3469e-07,\n",
      "         1.0166e-08, 2.3477e-08, 6.7209e-04, 2.2190e-07, 1.0504e-13, 5.5929e-09,\n",
      "         2.6412e-10, 1.9518e-08, 9.8952e-12, 3.1470e-08, 3.7543e-08, 1.6368e-03,\n",
      "         6.9831e-10, 9.9169e-01, 3.9838e-03, 1.4007e-03, 4.1962e-04, 7.7065e-06,\n",
      "         7.1501e-11, 1.6190e-06, 4.1534e-08, 1.4482e-07]],\n",
      "       grad_fn=<SoftmaxBackward>) \n",
      "top output\n",
      " VBD\n"
     ]
    }
   ],
   "source": [
    "# predict on one example.\n",
    "rnn.verbose=True\n",
    "_, _ = rnn.forward_unrolled(one_hots(vocab, ['Look', 'at', 'what', 'happened']))"
   ]
  },
  {
   "cell_type": "code",
   "execution_count": 50,
   "metadata": {},
   "outputs": [
    {
     "name": "stdout",
     "output_type": "stream",
     "text": [
      "              precision    recall  f1-score   support\n",
      "\n",
      "           $       1.00      1.00      1.00         7\n",
      "           ,       1.00      1.00      1.00        13\n",
      "           .       1.00      1.00      1.00        10\n",
      "          CC       1.00      1.00      1.00         8\n",
      "          CD       0.50      0.31      0.38        16\n",
      "          DT       1.00      1.00      1.00        13\n",
      "          IN       0.97      0.97      0.97        29\n",
      "          JJ       1.00      0.47      0.64        15\n",
      "         JJR       0.50      0.33      0.40         3\n",
      "          NN       0.85      0.47      0.61        36\n",
      "         NNP       0.39      0.55      0.46        29\n",
      "        NNPS       0.00      0.00      0.00         1\n",
      "         NNS       1.00      0.59      0.74        27\n",
      "         POS       1.00      1.00      1.00         2\n",
      "          RB       0.00      0.00      0.00         1\n",
      "         RBR       0.00      0.00      0.00         1\n",
      "          TO       1.00      1.00      1.00         6\n",
      "          VB       0.00      0.00      0.00         3\n",
      "         VBD       1.00      0.44      0.62         9\n",
      "         VBG       0.00      0.00      0.00         0\n",
      "         VBN       0.09      1.00      0.17         2\n",
      "         WDT       0.00      0.00      0.00         1\n",
      "         WRB       0.00      0.00      0.00         0\n",
      "\n",
      "    accuracy                           0.67       232\n",
      "   macro avg       0.58      0.53      0.52       232\n",
      "weighted avg       0.82      0.67      0.71       232\n",
      "\n"
     ]
    },
    {
     "data": {
      "text/plain": [
       "0.7111138126775658"
      ]
     },
     "execution_count": 50,
     "metadata": {},
     "output_type": "execute_result"
    }
   ],
   "source": [
    "evaluate_rnn(rnn, rnn_data_test)"
   ]
  },
  {
   "cell_type": "markdown",
   "metadata": {},
   "source": [
    "### RNNs with word embeddings\n",
    "\n",
    "The RNN seems pretty comparable with the HMM. As usual, more data and more tuning would likely lead to higher accuracy for the RNN.\n",
    "\n",
    "Next, we can use the word embeddings as the input representation for each word, rather than the one-hot encoding."
   ]
  },
  {
   "cell_type": "code",
   "execution_count": 51,
   "metadata": {},
   "outputs": [
    {
     "name": "stdout",
     "output_type": "stream",
     "text": [
      "74 training and 10 testing sentences\n"
     ]
    }
   ],
   "source": [
    "# Use mean vector if word not in w2v\n",
    "MEAN_VEC = w2v.vectors.mean(axis=0)\n",
    "\n",
    "def embed_words_rnn(w2v, sentence):\n",
    "    \"\"\"\n",
    "    Embed each token with its vector from w2v.\n",
    "    \"\"\"\n",
    "    return torch.tensor([w2v[w.lower()] if w.lower() in w2v else MEAN_VEC for w in sentence])\n",
    "    \n",
    "rnn_data_embed = [(embed_words_rnn(w2v, sentence), one_hots(states, tag_list)) \n",
    "                    for sentence, tag_list in zip(sentences, tags)]\n",
    "rnn_data_embed_train, rnn_data_embed_test = rnn_data_embed[:-10], rnn_data_embed[-10:]\n",
    "print('%d training and %d testing sentences' % (len(rnn_data_embed_train), len(rnn_data_embed_test)))"
   ]
  },
  {
   "cell_type": "code",
   "execution_count": 52,
   "metadata": {},
   "outputs": [
    {
     "name": "stderr",
     "output_type": "stream",
     "text": [
      "100%|██████████| 15/15 [00:07<00:00,  2.04it/s]\n"
     ]
    },
    {
     "data": {
      "image/png": "[encoded data removed]",
      "text/plain": [
       "<Figure size 432x288 with 1 Axes>"
      ]
     },
     "metadata": {
      "needs_background": "light"
     },
     "output_type": "display_data"
    },
    {
     "data": {
      "image/png": "[encoded data removed]",
      "text/plain": [
       "<Figure size 432x288 with 1 Axes>"
      ]
     },
     "metadata": {
      "needs_background": "light"
     },
     "output_type": "display_data"
    },
    {
     "data": {
      "text/plain": [
       "RNN(\n",
       "  (input_to_hidden): Linear(in_features=50, out_features=10, bias=True)\n",
       "  (hidden_to_hidden): Linear(in_features=10, out_features=10, bias=True)\n",
       "  (hidden_to_output): Linear(in_features=10, out_features=34, bias=True)\n",
       "  (tanh): Tanh()\n",
       "  (softmax): Softmax(dim=1)\n",
       ")"
      ]
     },
     "execution_count": 52,
     "metadata": {},
     "output_type": "execute_result"
    }
   ],
   "source": [
    "# the input dimension has now changed to 50, the size of the word embedding\n",
    "rnn = RNN(50, 10, len(states), states)\n",
    "train_rnn(rnn, rnn_data_embed_train, rnn_data_embed_test, epochs=15, learning_rate=.05)"
   ]
  },
  {
   "cell_type": "code",
   "execution_count": 53,
   "metadata": {},
   "outputs": [
    {
     "name": "stdout",
     "output_type": "stream",
     "text": [
      "              precision    recall  f1-score   support\n",
      "\n",
      "           $       0.88      1.00      0.93         7\n",
      "           ,       1.00      1.00      1.00        13\n",
      "           .       1.00      1.00      1.00        10\n",
      "          CC       0.89      1.00      0.94         8\n",
      "          CD       1.00      0.88      0.93        16\n",
      "          DT       0.93      1.00      0.96        13\n",
      "          IN       1.00      0.90      0.95        29\n",
      "          JJ       0.44      0.27      0.33        15\n",
      "         JJR       0.00      0.00      0.00         3\n",
      "          NN       0.53      0.72      0.61        36\n",
      "         NNP       0.76      0.66      0.70        29\n",
      "        NNPS       1.00      1.00      1.00         1\n",
      "         NNS       0.66      0.70      0.68        27\n",
      "         POS       0.40      1.00      0.57         2\n",
      "          RB       0.00      0.00      0.00         1\n",
      "         RBR       0.00      0.00      0.00         1\n",
      "          TO       0.86      1.00      0.92         6\n",
      "          VB       0.00      0.00      0.00         3\n",
      "         VBD       0.83      0.56      0.67         9\n",
      "         VBN       0.00      0.00      0.00         2\n",
      "         WDT       0.00      0.00      0.00         1\n",
      "\n",
      "    accuracy                           0.75       232\n",
      "   macro avg       0.58      0.60      0.58       232\n",
      "weighted avg       0.75      0.75      0.74       232\n",
      "\n"
     ]
    },
    {
     "data": {
      "text/plain": [
       "0.7386485467241046"
      ]
     },
     "execution_count": 53,
     "metadata": {},
     "output_type": "execute_result"
    }
   ],
   "source": [
    "evaluate_rnn(rnn, rnn_data_embed_test)"
   ]
  },
  {
   "cell_type": "markdown",
   "metadata": {},
   "source": [
    "Hmm...at first glance it doesn't seem worth using an RNN with this data. But, maybe we haven't tuned it properly?\n",
    "\n",
    "Play around with the learning rate, hidden_size, and number of epochs for the final RNN model above. What is the best \"weighted avg\" F1 you can obtain? What are the values of the tuning parameters you use? One tip -- as you increase hidden size, you may need to reduce the learning rate. "
   ]
  },
  {
   "cell_type": "code",
   "execution_count": 54,
   "metadata": {
    "deletable": false,
    "nbgrader": {
     "cell_type": "markdown",
     "checksum": "42aeccc9eaf711f49b7f4baccfce39e6",
     "grade": true,
     "grade_id": "rnn-tune",
     "locked": false,
     "points": 5,
     "schema_version": 3,
     "solution": true,
     "task": false
    }
   },
   "outputs": [
    {
     "name": "stderr",
     "output_type": "stream",
     "text": [
      "100%|██████████| 50/50 [00:23<00:00,  2.17it/s]\n"
     ]
    },
    {
     "data": {
      "image/png": "[encoded data removed]",
      "text/plain": [
       "<Figure size 432x288 with 1 Axes>"
      ]
     },
     "metadata": {
      "needs_background": "light"
     },
     "output_type": "display_data"
    },
    {
     "data": {
      "image/png": "[encoded data removed]",
      "text/plain": [
       "<Figure size 432x288 with 1 Axes>"
      ]
     },
     "metadata": {
      "needs_background": "light"
     },
     "output_type": "display_data"
    },
    {
     "name": "stdout",
     "output_type": "stream",
     "text": [
      "              precision    recall  f1-score   support\n",
      "\n",
      "           $       1.00      1.00      1.00         7\n",
      "           ,       1.00      1.00      1.00        13\n",
      "           .       1.00      1.00      1.00        10\n",
      "          CC       1.00      1.00      1.00         8\n",
      "          CD       1.00      0.88      0.93        16\n",
      "          DT       0.87      1.00      0.93        13\n",
      "          IN       0.96      0.90      0.93        29\n",
      "          JJ       0.71      0.67      0.69        15\n",
      "         JJR       0.50      0.33      0.40         3\n",
      "          NN       0.66      0.69      0.68        36\n",
      "         NNP       0.79      0.79      0.79        29\n",
      "        NNPS       0.00      0.00      0.00         1\n",
      "         NNS       0.76      0.70      0.73        27\n",
      "         POS       1.00      1.00      1.00         2\n",
      "          RB       0.00      0.00      0.00         1\n",
      "         RBR       1.00      1.00      1.00         1\n",
      "          TO       1.00      1.00      1.00         6\n",
      "          VB       1.00      0.33      0.50         3\n",
      "         VBD       1.00      0.78      0.88         9\n",
      "         VBG       0.00      0.00      0.00         0\n",
      "         VBN       0.50      1.00      0.67         2\n",
      "         VBP       0.00      0.00      0.00         0\n",
      "         WDT       0.00      0.00      0.00         1\n",
      "\n",
      "    accuracy                           0.81       232\n",
      "   macro avg       0.68      0.66      0.66       232\n",
      "weighted avg       0.84      0.81      0.82       232\n",
      "\n"
     ]
    },
    {
     "data": {
      "text/plain": [
       "0.8200068439998583"
      ]
     },
     "execution_count": 54,
     "metadata": {},
     "output_type": "execute_result"
    }
   ],
   "source": [
    "rnn = RNN(50, 20, len(states), states)\n",
    "train_rnn(rnn, rnn_data_embed_train, rnn_data_embed_test, epochs=50, learning_rate=.01)\n",
    "evaluate_rnn(rnn, rnn_data_embed_test)"
   ]
  },
  {
   "cell_type": "markdown",
   "metadata": {},
   "source": [
    "The best weighted averge f1 I can obtain is 0.82, with learning rate=0.01, hidden size=20, number of epochs=50. As I changed the hidden size into 15 or 25, the f1 score became smaller with other same parameters. I think epoch 50 is enough for this example, since the loss and f1 curves are stable around epoch 50, and we want as less training time as much.  "
   ]
  },
  {
   "cell_type": "code",
   "execution_count": null,
   "metadata": {},
   "outputs": [],
   "source": []
  }
 ],
 "metadata": {
  "kernelspec": {
   "display_name": "Python 3",
   "language": "python",
   "name": "python3"
  },
  "language_info": {
   "codemirror_mode": {
    "name": "ipython",
    "version": 3
   },
   "file_extension": ".py",
   "mimetype": "text/x-python",
   "name": "python",
   "nbconvert_exporter": "python",
   "pygments_lexer": "ipython3",
   "version": "3.7.3"
  },
  "toc": {
   "base_numbering": 1,
   "nav_menu": {},
   "number_sections": true,
   "sideBar": true,
   "skip_h1_title": false,
   "title_cell": "Table of Contents",
   "title_sidebar": "Contents",
   "toc_cell": true,
   "toc_position": {},
   "toc_section_display": true,
   "toc_window_display": false
  }
 },
 "nbformat": 4,
 "nbformat_minor": 1
}
